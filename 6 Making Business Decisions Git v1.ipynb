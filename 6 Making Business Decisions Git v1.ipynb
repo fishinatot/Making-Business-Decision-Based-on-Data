{
 "cells": [
  {
   "cell_type": "markdown",
   "id": "0253f18a",
   "metadata": {},
   "source": [
    "# Making business decisions based on data\n",
    "\n",
    "You are an analyst at a big online store. Together with the marketing department, you've compiled a list of hypotheses that may help boost revenue.\n",
    "You need to prioritize these hypotheses, launch an A/B test, and analyze the results. "
   ]
  },
  {
   "cell_type": "markdown",
   "id": "bbefeebf",
   "metadata": {},
   "source": [
    "## importing libraries and data:"
   ]
  },
  {
   "cell_type": "code",
   "execution_count": 1,
   "id": "367120cc",
   "metadata": {
    "ExecuteTime": {
     "end_time": "2022-11-12T15:59:01.236906Z",
     "start_time": "2022-11-12T15:58:47.260611Z"
    }
   },
   "outputs": [],
   "source": [
    "import pandas as pd\n",
    "import numpy as np\n",
    "import math as mth\n",
    "import sidetable as stb\n",
    "import matplotlib.pyplot as plt\n",
    "import scipy.stats as stats"
   ]
  },
  {
   "cell_type": "code",
   "execution_count": 4,
   "id": "90add9ae",
   "metadata": {
    "ExecuteTime": {
     "end_time": "2022-11-12T15:59:31.206606Z",
     "start_time": "2022-11-12T15:59:31.058443Z"
    }
   },
   "outputs": [],
   "source": [
    "try:\n",
    "    \n",
    "    hypotheses = pd.read_csv('\\\\Users\\\\aviv\\\\Downloads\\\\practicum100\\\\hypotheses_us.csv', sep=';')\n",
    "\n",
    "    orders = pd.read_csv('\\\\Users\\\\aviv\\\\Downloads\\\\practicum100\\\\orders_us.csv', sep=',', parse_dates=['date'])\n",
    "\n",
    "    visits = pd.read_csv('\\\\Users\\\\aviv\\\\Downloads\\\\practicum100\\\\visits_us.csv', sep=',', parse_dates=['date'])\n",
    "    \n",
    "except:\n",
    "    \n",
    "    hypotheses = pd.read_csv('/datasets/hypotheses_us.csv', sep=';')\n",
    "\n",
    "    orders = pd.read_csv('/datasets/orders_us.csv', sep=',', parse_dates=['date'])\n",
    "\n",
    "    visits = pd.read_csv('/datasets/visits_us.csv', sep=',', parse_dates=['date'])\n",
    "    \n",
    "df_list = [hypotheses, orders, visits]"
   ]
  },
  {
   "cell_type": "markdown",
   "id": "2f8c80b0",
   "metadata": {},
   "source": [
    "# Preprocessing\n"
   ]
  },
  {
   "cell_type": "code",
   "execution_count": 5,
   "id": "a8860c74",
   "metadata": {
    "ExecuteTime": {
     "end_time": "2022-11-12T15:59:31.657270Z",
     "start_time": "2022-11-12T15:59:31.228549Z"
    },
    "scrolled": true
   },
   "outputs": [
    {
     "name": "stdout",
     "output_type": "stream",
     "text": [
      "<class 'pandas.core.frame.DataFrame'>\n",
      "RangeIndex: 9 entries, 0 to 8\n",
      "Data columns (total 5 columns):\n",
      " #   Column      Non-Null Count  Dtype \n",
      "---  ------      --------------  ----- \n",
      " 0   hypothesis  9 non-null      object\n",
      " 1   reach       9 non-null      int64 \n",
      " 2   impact      9 non-null      int64 \n",
      " 3   confidence  9 non-null      int64 \n",
      " 4   effort      9 non-null      int64 \n",
      "dtypes: int64(4), object(1)\n",
      "memory usage: 488.0+ bytes\n",
      "None\n",
      "                                          hypothesis  reach  impact  \\\n",
      "0  Add two new channels for attracting traffic. T...      3      10   \n",
      "1  Launch your own delivery service. This will sh...      2       5   \n",
      "2  Add product recommendation blocks to the store...      8       3   \n",
      "3  Change the category structure. This will incre...      8       3   \n",
      "4  Change the background color on the main page. ...      3       1   \n",
      "\n",
      "   confidence  effort  \n",
      "0           8       6  \n",
      "1           4      10  \n",
      "2           7       3  \n",
      "3           3       8  \n",
      "4           1       1  \n",
      "<class 'pandas.core.frame.DataFrame'>\n",
      "RangeIndex: 1197 entries, 0 to 1196\n",
      "Data columns (total 5 columns):\n",
      " #   Column         Non-Null Count  Dtype         \n",
      "---  ------         --------------  -----         \n",
      " 0   transactionid  1197 non-null   int64         \n",
      " 1   visitorid      1197 non-null   int64         \n",
      " 2   date           1197 non-null   datetime64[ns]\n",
      " 3   revenue        1197 non-null   float64       \n",
      " 4   group          1197 non-null   object        \n",
      "dtypes: datetime64[ns](1), float64(1), int64(2), object(1)\n",
      "memory usage: 46.9+ KB\n",
      "None\n",
      "   transactionid   visitorid       date  revenue group\n",
      "0     3667963787  3312258926 2019-08-15     30.4     B\n",
      "1     2804400009  3642806036 2019-08-15     15.2     B\n",
      "2     2961555356  4069496402 2019-08-15     10.2     A\n",
      "3     3797467345  1196621759 2019-08-15    155.1     B\n",
      "4     2282983706  2322279887 2019-08-15     40.5     B\n",
      "<class 'pandas.core.frame.DataFrame'>\n",
      "RangeIndex: 62 entries, 0 to 61\n",
      "Data columns (total 3 columns):\n",
      " #   Column  Non-Null Count  Dtype         \n",
      "---  ------  --------------  -----         \n",
      " 0   date    62 non-null     datetime64[ns]\n",
      " 1   group   62 non-null     object        \n",
      " 2   visits  62 non-null     int64         \n",
      "dtypes: datetime64[ns](1), int64(1), object(1)\n",
      "memory usage: 1.6+ KB\n",
      "None\n",
      "        date group  visits\n",
      "0 2019-08-01     A     719\n",
      "1 2019-08-02     A     619\n",
      "2 2019-08-03     A     507\n",
      "3 2019-08-04     A     717\n",
      "4 2019-08-05     A     756\n"
     ]
    }
   ],
   "source": [
    "for df in df_list:\n",
    "    df.columns=df.columns.str.lower()\n",
    "    print(df.info())\n",
    "    print(df.head())\n",
    "    "
   ]
  },
  {
   "cell_type": "markdown",
   "id": "8d1daadc",
   "metadata": {},
   "source": [
    "- hypotheses - list of hypotheses to prioritize, and then test\n",
    "- orders - dump file with order data\n",
    "- visits - Server logs with data on visits"
   ]
  },
  {
   "cell_type": "markdown",
   "id": "41e95a0d",
   "metadata": {},
   "source": [
    "checking for weird values:"
   ]
  },
  {
   "cell_type": "code",
   "execution_count": 6,
   "id": "54965e31",
   "metadata": {
    "ExecuteTime": {
     "end_time": "2022-11-12T15:59:31.859447Z",
     "start_time": "2022-11-12T15:59:31.677599Z"
    }
   },
   "outputs": [
    {
     "name": "stdout",
     "output_type": "stream",
     "text": [
      "Add two new channels for attracting traffic. This will bring 30% more users                                               1\n",
      "Launch your own delivery service. This will shorten delivery time                                                         1\n",
      "Add product recommendation blocks to the store's site. This will increase conversion and average purchase size            1\n",
      "Change the category structure. This will increase conversion since users will find the products they want more quickly    1\n",
      "Change the background color on the main page. This will increase user engagement                                          1\n",
      "Add a customer review page. This will increase the number of orders                                                       1\n",
      "Show banners with current offers and sales on the main page. This will boost conversion                                   1\n",
      "Add a subscription form to all the main pages. This will help you compile a mailing list                                  1\n",
      "Launch a promotion that gives users discounts on their birthdays                                                          1\n",
      "Name: hypothesis, dtype: int64\n",
      "3     3\n",
      "8     2\n",
      "2     1\n",
      "5     1\n",
      "10    1\n",
      "1     1\n",
      "Name: reach, dtype: int64\n",
      "3     3\n",
      "10    1\n",
      "5     1\n",
      "1     1\n",
      "2     1\n",
      "7     1\n",
      "9     1\n",
      "Name: impact, dtype: int64\n",
      "8    3\n",
      "4    1\n",
      "7    1\n",
      "3    1\n",
      "1    1\n",
      "2    1\n",
      "9    1\n",
      "Name: confidence, dtype: int64\n",
      "3     3\n",
      "5     2\n",
      "6     1\n",
      "10    1\n",
      "8     1\n",
      "1     1\n",
      "Name: effort, dtype: int64\n",
      "3667963787    1\n",
      "4167421281    1\n",
      "2875229767    1\n",
      "504373597     1\n",
      "2017680897    1\n",
      "             ..\n",
      "1853288890    1\n",
      "2084190534    1\n",
      "2956594374    1\n",
      "3646798055    1\n",
      "3936777065    1\n",
      "Name: transactionid, Length: 1197, dtype: int64\n",
      "4256040402    11\n",
      "2458001652    11\n",
      "2378935119     9\n",
      "2038680547     8\n",
      "199603092      5\n",
      "              ..\n",
      "2524310328     1\n",
      "2210805728     1\n",
      "2274825520     1\n",
      "1831227158     1\n",
      "2108080724     1\n",
      "Name: visitorid, Length: 1031, dtype: int64\n",
      "2019-08-05    48\n",
      "2019-08-14    47\n",
      "2019-08-12    47\n",
      "2019-08-06    46\n",
      "2019-08-15    46\n",
      "2019-08-01    45\n",
      "2019-08-28    45\n",
      "2019-08-02    44\n",
      "2019-08-27    44\n",
      "2019-08-08    43\n",
      "2019-08-19    43\n",
      "2019-08-29    42\n",
      "2019-08-07    42\n",
      "2019-08-22    41\n",
      "2019-08-09    41\n",
      "2019-08-26    41\n",
      "2019-08-03    40\n",
      "2019-08-23    40\n",
      "2019-08-10    39\n",
      "2019-08-16    38\n",
      "2019-08-21    37\n",
      "2019-08-30    35\n",
      "2019-08-13    35\n",
      "2019-08-04    33\n",
      "2019-08-20    32\n",
      "2019-08-31    32\n",
      "2019-08-24    31\n",
      "2019-08-11    26\n",
      "2019-08-18    26\n",
      "2019-08-17    24\n",
      "2019-08-25    24\n",
      "Name: date, dtype: int64\n",
      "20.2      28\n",
      "40.2      25\n",
      "10.2      19\n",
      "25.5      19\n",
      "20.8      18\n",
      "          ..\n",
      "310.2      1\n",
      "135.1      1\n",
      "160.8      1\n",
      "480.8      1\n",
      "3120.1     1\n",
      "Name: revenue, Length: 403, dtype: int64\n",
      "B    640\n",
      "A    557\n",
      "Name: group, dtype: int64\n",
      "2019-08-01    2\n",
      "2019-08-17    2\n",
      "2019-08-30    2\n",
      "2019-08-29    2\n",
      "2019-08-28    2\n",
      "2019-08-27    2\n",
      "2019-08-26    2\n",
      "2019-08-25    2\n",
      "2019-08-24    2\n",
      "2019-08-23    2\n",
      "2019-08-22    2\n",
      "2019-08-21    2\n",
      "2019-08-20    2\n",
      "2019-08-19    2\n",
      "2019-08-18    2\n",
      "2019-08-16    2\n",
      "2019-08-02    2\n",
      "2019-08-15    2\n",
      "2019-08-14    2\n",
      "2019-08-13    2\n",
      "2019-08-12    2\n",
      "2019-08-11    2\n",
      "2019-08-10    2\n",
      "2019-08-09    2\n",
      "2019-08-08    2\n",
      "2019-08-07    2\n",
      "2019-08-06    2\n",
      "2019-08-05    2\n",
      "2019-08-04    2\n",
      "2019-08-03    2\n",
      "2019-08-31    2\n",
      "Name: date, dtype: int64\n",
      "A    31\n",
      "B    31\n",
      "Name: group, dtype: int64\n",
      "490    2\n",
      "610    2\n",
      "654    2\n",
      "718    2\n",
      "544    1\n",
      "581    1\n",
      "509    1\n",
      "770    1\n",
      "707    1\n",
      "655    1\n",
      "709    1\n",
      "369    1\n",
      "721    1\n",
      "543    1\n",
      "769    1\n",
      "746    1\n",
      "413    1\n",
      "699    1\n",
      "421    1\n",
      "737    1\n",
      "487    1\n",
      "560    1\n",
      "656    1\n",
      "650    1\n",
      "546    1\n",
      "378    1\n",
      "679    1\n",
      "676    1\n",
      "720    1\n",
      "713    1\n",
      "719    1\n",
      "619    1\n",
      "361    1\n",
      "507    1\n",
      "717    1\n",
      "756    1\n",
      "667    1\n",
      "644    1\n",
      "617    1\n",
      "406    1\n",
      "595    1\n",
      "748    1\n",
      "735    1\n",
      "628    1\n",
      "412    1\n",
      "577    1\n",
      "668    1\n",
      "502    1\n",
      "575    1\n",
      "646    1\n",
      "609    1\n",
      "468    1\n",
      "395    1\n",
      "621    1\n",
      "722    1\n",
      "711    1\n",
      "594    1\n",
      "531    1\n",
      "Name: visits, dtype: int64\n"
     ]
    }
   ],
   "source": [
    "for df in df_list:\n",
    "    \n",
    "    for column in df.columns:\n",
    "        print(df[column].value_counts())"
   ]
  },
  {
   "cell_type": "markdown",
   "id": "15908bd6",
   "metadata": {},
   "source": [
    "checking for members in both A and B:\n",
    "grouping by visitorid (only if they have more than one entry, otherwise there's not point)\n",
    "checking whether they have multiple group values, converting the series to list, than slicing the dataframe by this list and checking again for members with multiple group values."
   ]
  },
  {
   "cell_type": "code",
   "execution_count": 7,
   "id": "01b98239",
   "metadata": {
    "ExecuteTime": {
     "end_time": "2022-11-12T15:59:32.063804Z",
     "start_time": "2022-11-12T15:59:31.890363Z"
    }
   },
   "outputs": [],
   "source": [
    "visitors_groups=orders[orders[['visitorid']].duplicated()].groupby(['visitorid'])['group'].unique().reset_index()\n",
    "visitors_groups.columns = ['visitorid','group_list']\n",
    "visitors_groups['length'] = visitors_groups['group_list'].transform(lambda x: len(x))\n",
    "no_good = visitors_groups[visitors_groups['length'] > 1]['visitorid']\n",
    "no_good = no_good.to_list()"
   ]
  },
  {
   "cell_type": "code",
   "execution_count": 8,
   "id": "20decd1c",
   "metadata": {
    "ExecuteTime": {
     "end_time": "2022-11-12T15:59:32.124652Z",
     "start_time": "2022-11-12T15:59:32.078768Z"
    }
   },
   "outputs": [],
   "source": [
    "df = orders\n",
    "orders = df.query(\"visitorid not in @no_good\")\n",
    "\n",
    "\n"
   ]
  },
  {
   "cell_type": "code",
   "execution_count": 9,
   "id": "c75f3964",
   "metadata": {
    "ExecuteTime": {
     "end_time": "2022-11-12T15:59:32.280620Z",
     "start_time": "2022-11-12T15:59:32.137559Z"
    }
   },
   "outputs": [
    {
     "data": {
      "text/plain": [
       "Series([], Name: visitorid, dtype: int64)"
      ]
     },
     "execution_count": 9,
     "metadata": {},
     "output_type": "execute_result"
    }
   ],
   "source": [
    "\n",
    "visitors_groups=orders[orders[['visitorid']].duplicated()].groupby(['visitorid'])['group'].unique().reset_index()\n",
    "visitors_groups.columns = ['visitorid','group_list']\n",
    "visitors_groups['length'] = visitors_groups['group_list'].transform(lambda x: len(x))\n",
    "no_good = visitors_groups[visitors_groups['length'] > 1]['visitorid']\n",
    "no_good"
   ]
  },
  {
   "cell_type": "markdown",
   "id": "7cbb3b2f",
   "metadata": {},
   "source": [
    "if the visits dataframe had user data i would check it for the errors same as above, but it's irrelevant since there's only data on date, group and number of visits"
   ]
  },
  {
   "cell_type": "code",
   "execution_count": 10,
   "id": "0ce7b39d",
   "metadata": {
    "ExecuteTime": {
     "end_time": "2022-11-12T15:59:32.313185Z",
     "start_time": "2022-11-12T15:59:32.290245Z"
    }
   },
   "outputs": [],
   "source": [
    "#\n",
    "#visitors_groups=visits[visits['visitorid'].duplicated()].groupby(['visitorid'])['group'].unique().reset_index()\n",
    "#visitors_groups.columns = ['visitorid','group_list']\n",
    "#visitors_groups['length'] = visitors_groups['group_list'].transform(lambda x: len(x))\n",
    "#no_good = visitors_groups[visitors_groups['length'] > 1]['visitorid']\n",
    "#no_good = no_good.to_list()"
   ]
  },
  {
   "cell_type": "markdown",
   "id": "6f901235",
   "metadata": {},
   "source": [
    "## Missing values"
   ]
  },
  {
   "cell_type": "code",
   "execution_count": 11,
   "id": "0b40e1f9",
   "metadata": {
    "ExecuteTime": {
     "end_time": "2022-11-12T15:59:32.925998Z",
     "start_time": "2022-11-12T15:59:32.324156Z"
    }
   },
   "outputs": [
    {
     "data": {
      "text/html": [
       "<style type=\"text/css\">\n",
       "</style>\n",
       "<table id=\"T_7fcf1\">\n",
       "  <thead>\n",
       "    <tr>\n",
       "      <th class=\"blank level0\" >&nbsp;</th>\n",
       "      <th id=\"T_7fcf1_level0_col0\" class=\"col_heading level0 col0\" >missing</th>\n",
       "      <th id=\"T_7fcf1_level0_col1\" class=\"col_heading level0 col1\" >total</th>\n",
       "      <th id=\"T_7fcf1_level0_col2\" class=\"col_heading level0 col2\" >percent</th>\n",
       "    </tr>\n",
       "  </thead>\n",
       "  <tbody>\n",
       "    <tr>\n",
       "      <th id=\"T_7fcf1_level0_row0\" class=\"row_heading level0 row0\" >date</th>\n",
       "      <td id=\"T_7fcf1_row0_col0\" class=\"data row0 col0\" >0</td>\n",
       "      <td id=\"T_7fcf1_row0_col1\" class=\"data row0 col1\" >62</td>\n",
       "      <td id=\"T_7fcf1_row0_col2\" class=\"data row0 col2\" >0.00%</td>\n",
       "    </tr>\n",
       "    <tr>\n",
       "      <th id=\"T_7fcf1_level0_row1\" class=\"row_heading level0 row1\" >group</th>\n",
       "      <td id=\"T_7fcf1_row1_col0\" class=\"data row1 col0\" >0</td>\n",
       "      <td id=\"T_7fcf1_row1_col1\" class=\"data row1 col1\" >62</td>\n",
       "      <td id=\"T_7fcf1_row1_col2\" class=\"data row1 col2\" >0.00%</td>\n",
       "    </tr>\n",
       "    <tr>\n",
       "      <th id=\"T_7fcf1_level0_row2\" class=\"row_heading level0 row2\" >visits</th>\n",
       "      <td id=\"T_7fcf1_row2_col0\" class=\"data row2 col0\" >0</td>\n",
       "      <td id=\"T_7fcf1_row2_col1\" class=\"data row2 col1\" >62</td>\n",
       "      <td id=\"T_7fcf1_row2_col2\" class=\"data row2 col2\" >0.00%</td>\n",
       "    </tr>\n",
       "  </tbody>\n",
       "</table>\n"
      ],
      "text/plain": [
       "<pandas.io.formats.style.Styler at 0x1d978859be0>"
      ]
     },
     "execution_count": 11,
     "metadata": {},
     "output_type": "execute_result"
    }
   ],
   "source": [
    "hypotheses.stb.missing(style=True)\n",
    "orders.stb.missing(style=True)\n",
    "visits.stb.missing(style=True)"
   ]
  },
  {
   "cell_type": "markdown",
   "id": "18d8abad",
   "metadata": {},
   "source": [
    "no missing values"
   ]
  },
  {
   "cell_type": "markdown",
   "id": "ac9e4a17",
   "metadata": {},
   "source": [
    "## Duplicates"
   ]
  },
  {
   "cell_type": "code",
   "execution_count": 12,
   "id": "3d88700e",
   "metadata": {
    "ExecuteTime": {
     "end_time": "2022-11-12T15:59:33.004795Z",
     "start_time": "2022-11-12T15:59:32.938966Z"
    }
   },
   "outputs": [
    {
     "name": "stdout",
     "output_type": "stream",
     "text": [
      "False    9\n",
      "dtype: int64\n",
      "False    1197\n",
      "dtype: int64\n",
      "False    62\n",
      "dtype: int64\n"
     ]
    }
   ],
   "source": [
    "for df in df_list:\n",
    "    print(df.duplicated().value_counts())"
   ]
  },
  {
   "cell_type": "markdown",
   "id": "59f7224d",
   "metadata": {},
   "source": [
    "no duplicates"
   ]
  },
  {
   "cell_type": "markdown",
   "id": "fe414615",
   "metadata": {},
   "source": [
    "# Prioritizing hypotheses"
   ]
  },
  {
   "cell_type": "code",
   "execution_count": 13,
   "id": "125e3027",
   "metadata": {
    "ExecuteTime": {
     "end_time": "2022-11-12T15:59:33.099091Z",
     "start_time": "2022-11-12T15:59:33.024736Z"
    }
   },
   "outputs": [
    {
     "data": {
      "text/html": [
       "<div>\n",
       "<style scoped>\n",
       "    .dataframe tbody tr th:only-of-type {\n",
       "        vertical-align: middle;\n",
       "    }\n",
       "\n",
       "    .dataframe tbody tr th {\n",
       "        vertical-align: top;\n",
       "    }\n",
       "\n",
       "    .dataframe thead th {\n",
       "        text-align: right;\n",
       "    }\n",
       "</style>\n",
       "<table border=\"1\" class=\"dataframe\">\n",
       "  <thead>\n",
       "    <tr style=\"text-align: right;\">\n",
       "      <th></th>\n",
       "      <th>hypothesis</th>\n",
       "      <th>ICE</th>\n",
       "    </tr>\n",
       "  </thead>\n",
       "  <tbody>\n",
       "    <tr>\n",
       "      <th>8</th>\n",
       "      <td>Launch a promotion that gives users discounts ...</td>\n",
       "      <td>16.200000</td>\n",
       "    </tr>\n",
       "    <tr>\n",
       "      <th>0</th>\n",
       "      <td>Add two new channels for attracting traffic. T...</td>\n",
       "      <td>13.333333</td>\n",
       "    </tr>\n",
       "    <tr>\n",
       "      <th>7</th>\n",
       "      <td>Add a subscription form to all the main pages....</td>\n",
       "      <td>11.200000</td>\n",
       "    </tr>\n",
       "    <tr>\n",
       "      <th>6</th>\n",
       "      <td>Show banners with current offers and sales on ...</td>\n",
       "      <td>8.000000</td>\n",
       "    </tr>\n",
       "    <tr>\n",
       "      <th>2</th>\n",
       "      <td>Add product recommendation blocks to the store...</td>\n",
       "      <td>7.000000</td>\n",
       "    </tr>\n",
       "    <tr>\n",
       "      <th>1</th>\n",
       "      <td>Launch your own delivery service. This will sh...</td>\n",
       "      <td>2.000000</td>\n",
       "    </tr>\n",
       "    <tr>\n",
       "      <th>5</th>\n",
       "      <td>Add a customer review page. This will increase...</td>\n",
       "      <td>1.333333</td>\n",
       "    </tr>\n",
       "    <tr>\n",
       "      <th>3</th>\n",
       "      <td>Change the category structure. This will incre...</td>\n",
       "      <td>1.125000</td>\n",
       "    </tr>\n",
       "    <tr>\n",
       "      <th>4</th>\n",
       "      <td>Change the background color on the main page. ...</td>\n",
       "      <td>1.000000</td>\n",
       "    </tr>\n",
       "  </tbody>\n",
       "</table>\n",
       "</div>"
      ],
      "text/plain": [
       "                                          hypothesis        ICE\n",
       "8  Launch a promotion that gives users discounts ...  16.200000\n",
       "0  Add two new channels for attracting traffic. T...  13.333333\n",
       "7  Add a subscription form to all the main pages....  11.200000\n",
       "6  Show banners with current offers and sales on ...   8.000000\n",
       "2  Add product recommendation blocks to the store...   7.000000\n",
       "1  Launch your own delivery service. This will sh...   2.000000\n",
       "5  Add a customer review page. This will increase...   1.333333\n",
       "3  Change the category structure. This will incre...   1.125000\n",
       "4  Change the background color on the main page. ...   1.000000"
      ]
     },
     "execution_count": 13,
     "metadata": {},
     "output_type": "execute_result"
    }
   ],
   "source": [
    "data = hypotheses\n",
    "data['ICE'] = data['impact']*data['confidence']/data['effort']\n",
    "data[['hypothesis','ICE']].sort_values(by='ICE',ascending=False)"
   ]
  },
  {
   "cell_type": "code",
   "execution_count": 14,
   "id": "8d067e45",
   "metadata": {
    "ExecuteTime": {
     "end_time": "2022-11-12T15:59:33.208152Z",
     "start_time": "2022-11-12T15:59:33.114051Z"
    }
   },
   "outputs": [
    {
     "data": {
      "text/html": [
       "<div>\n",
       "<style scoped>\n",
       "    .dataframe tbody tr th:only-of-type {\n",
       "        vertical-align: middle;\n",
       "    }\n",
       "\n",
       "    .dataframe tbody tr th {\n",
       "        vertical-align: top;\n",
       "    }\n",
       "\n",
       "    .dataframe thead th {\n",
       "        text-align: right;\n",
       "    }\n",
       "</style>\n",
       "<table border=\"1\" class=\"dataframe\">\n",
       "  <thead>\n",
       "    <tr style=\"text-align: right;\">\n",
       "      <th></th>\n",
       "      <th>hypothesis</th>\n",
       "      <th>RICE</th>\n",
       "    </tr>\n",
       "  </thead>\n",
       "  <tbody>\n",
       "    <tr>\n",
       "      <th>7</th>\n",
       "      <td>Add a subscription form to all the main pages....</td>\n",
       "      <td>112.0</td>\n",
       "    </tr>\n",
       "    <tr>\n",
       "      <th>2</th>\n",
       "      <td>Add product recommendation blocks to the store...</td>\n",
       "      <td>56.0</td>\n",
       "    </tr>\n",
       "    <tr>\n",
       "      <th>0</th>\n",
       "      <td>Add two new channels for attracting traffic. T...</td>\n",
       "      <td>40.0</td>\n",
       "    </tr>\n",
       "    <tr>\n",
       "      <th>6</th>\n",
       "      <td>Show banners with current offers and sales on ...</td>\n",
       "      <td>40.0</td>\n",
       "    </tr>\n",
       "    <tr>\n",
       "      <th>8</th>\n",
       "      <td>Launch a promotion that gives users discounts ...</td>\n",
       "      <td>16.2</td>\n",
       "    </tr>\n",
       "    <tr>\n",
       "      <th>3</th>\n",
       "      <td>Change the category structure. This will incre...</td>\n",
       "      <td>9.0</td>\n",
       "    </tr>\n",
       "    <tr>\n",
       "      <th>1</th>\n",
       "      <td>Launch your own delivery service. This will sh...</td>\n",
       "      <td>4.0</td>\n",
       "    </tr>\n",
       "    <tr>\n",
       "      <th>5</th>\n",
       "      <td>Add a customer review page. This will increase...</td>\n",
       "      <td>4.0</td>\n",
       "    </tr>\n",
       "    <tr>\n",
       "      <th>4</th>\n",
       "      <td>Change the background color on the main page. ...</td>\n",
       "      <td>3.0</td>\n",
       "    </tr>\n",
       "  </tbody>\n",
       "</table>\n",
       "</div>"
      ],
      "text/plain": [
       "                                          hypothesis   RICE\n",
       "7  Add a subscription form to all the main pages....  112.0\n",
       "2  Add product recommendation blocks to the store...   56.0\n",
       "0  Add two new channels for attracting traffic. T...   40.0\n",
       "6  Show banners with current offers and sales on ...   40.0\n",
       "8  Launch a promotion that gives users discounts ...   16.2\n",
       "3  Change the category structure. This will incre...    9.0\n",
       "1  Launch your own delivery service. This will sh...    4.0\n",
       "5  Add a customer review page. This will increase...    4.0\n",
       "4  Change the background color on the main page. ...    3.0"
      ]
     },
     "execution_count": 14,
     "metadata": {},
     "output_type": "execute_result"
    }
   ],
   "source": [
    "data = hypotheses\n",
    "data['RICE'] = data['reach']*data['impact']*data['confidence']/data['effort']\n",
    "\n",
    "data[['hypothesis','RICE']].sort_values(by='RICE',ascending=False)"
   ]
  },
  {
   "cell_type": "markdown",
   "id": "d05a1cb8",
   "metadata": {},
   "source": [
    "we see when we consider the reach parameter, we get 4 other hypotheses prioritized over hypothesis number 8 'launching a promotion..'\n",
    "the only difference between the two frameworks is the reach, so we can conclude those 4 hypotheses that beat hypothesis number 8 are beating it by reach parameter."
   ]
  },
  {
   "cell_type": "code",
   "execution_count": 15,
   "id": "ebb88b00",
   "metadata": {
    "ExecuteTime": {
     "end_time": "2022-11-12T15:59:33.319025Z",
     "start_time": "2022-11-12T15:59:33.225118Z"
    }
   },
   "outputs": [
    {
     "data": {
      "text/html": [
       "<div>\n",
       "<style scoped>\n",
       "    .dataframe tbody tr th:only-of-type {\n",
       "        vertical-align: middle;\n",
       "    }\n",
       "\n",
       "    .dataframe tbody tr th {\n",
       "        vertical-align: top;\n",
       "    }\n",
       "\n",
       "    .dataframe thead th {\n",
       "        text-align: right;\n",
       "    }\n",
       "</style>\n",
       "<table border=\"1\" class=\"dataframe\">\n",
       "  <thead>\n",
       "    <tr style=\"text-align: right;\">\n",
       "      <th></th>\n",
       "      <th>hypothesis</th>\n",
       "      <th>reach</th>\n",
       "    </tr>\n",
       "  </thead>\n",
       "  <tbody>\n",
       "    <tr>\n",
       "      <th>7</th>\n",
       "      <td>Add a subscription form to all the main pages....</td>\n",
       "      <td>10</td>\n",
       "    </tr>\n",
       "    <tr>\n",
       "      <th>2</th>\n",
       "      <td>Add product recommendation blocks to the store...</td>\n",
       "      <td>8</td>\n",
       "    </tr>\n",
       "    <tr>\n",
       "      <th>3</th>\n",
       "      <td>Change the category structure. This will incre...</td>\n",
       "      <td>8</td>\n",
       "    </tr>\n",
       "    <tr>\n",
       "      <th>6</th>\n",
       "      <td>Show banners with current offers and sales on ...</td>\n",
       "      <td>5</td>\n",
       "    </tr>\n",
       "    <tr>\n",
       "      <th>0</th>\n",
       "      <td>Add two new channels for attracting traffic. T...</td>\n",
       "      <td>3</td>\n",
       "    </tr>\n",
       "    <tr>\n",
       "      <th>4</th>\n",
       "      <td>Change the background color on the main page. ...</td>\n",
       "      <td>3</td>\n",
       "    </tr>\n",
       "    <tr>\n",
       "      <th>5</th>\n",
       "      <td>Add a customer review page. This will increase...</td>\n",
       "      <td>3</td>\n",
       "    </tr>\n",
       "    <tr>\n",
       "      <th>1</th>\n",
       "      <td>Launch your own delivery service. This will sh...</td>\n",
       "      <td>2</td>\n",
       "    </tr>\n",
       "    <tr>\n",
       "      <th>8</th>\n",
       "      <td>Launch a promotion that gives users discounts ...</td>\n",
       "      <td>1</td>\n",
       "    </tr>\n",
       "  </tbody>\n",
       "</table>\n",
       "</div>"
      ],
      "text/plain": [
       "                                          hypothesis  reach\n",
       "7  Add a subscription form to all the main pages....     10\n",
       "2  Add product recommendation blocks to the store...      8\n",
       "3  Change the category structure. This will incre...      8\n",
       "6  Show banners with current offers and sales on ...      5\n",
       "0  Add two new channels for attracting traffic. T...      3\n",
       "4  Change the background color on the main page. ...      3\n",
       "5  Add a customer review page. This will increase...      3\n",
       "1  Launch your own delivery service. This will sh...      2\n",
       "8  Launch a promotion that gives users discounts ...      1"
      ]
     },
     "execution_count": 15,
     "metadata": {},
     "output_type": "execute_result"
    }
   ],
   "source": [
    "data[['hypothesis','reach']].sort_values(by='reach',ascending = False)"
   ]
  },
  {
   "cell_type": "markdown",
   "id": "f1baddac",
   "metadata": {},
   "source": [
    "we see hypothesis number 8 really is the lowest in reach parameter."
   ]
  },
  {
   "cell_type": "markdown",
   "id": "b747573b",
   "metadata": {},
   "source": [
    "# A/B test analysis"
   ]
  },
  {
   "cell_type": "markdown",
   "id": "121d0481",
   "metadata": {},
   "source": [
    "## Graph cumulative revenue by group"
   ]
  },
  {
   "cell_type": "markdown",
   "id": "a0e1c917",
   "metadata": {},
   "source": [
    "dividing the groups in the orders and visits dataframes, and grouping by dates to graph."
   ]
  },
  {
   "cell_type": "code",
   "execution_count": 16,
   "id": "675509f5",
   "metadata": {
    "ExecuteTime": {
     "end_time": "2022-11-12T15:59:33.447390Z",
     "start_time": "2022-11-12T15:59:33.336320Z"
    }
   },
   "outputs": [
    {
     "data": {
      "text/html": [
       "<div>\n",
       "<style scoped>\n",
       "    .dataframe tbody tr th:only-of-type {\n",
       "        vertical-align: middle;\n",
       "    }\n",
       "\n",
       "    .dataframe tbody tr th {\n",
       "        vertical-align: top;\n",
       "    }\n",
       "\n",
       "    .dataframe thead th {\n",
       "        text-align: right;\n",
       "    }\n",
       "</style>\n",
       "<table border=\"1\" class=\"dataframe\">\n",
       "  <thead>\n",
       "    <tr style=\"text-align: right;\">\n",
       "      <th></th>\n",
       "      <th>transactionid</th>\n",
       "      <th>visitorid</th>\n",
       "      <th>date</th>\n",
       "      <th>revenue</th>\n",
       "      <th>group</th>\n",
       "    </tr>\n",
       "  </thead>\n",
       "  <tbody>\n",
       "    <tr>\n",
       "      <th>0</th>\n",
       "      <td>3667963787</td>\n",
       "      <td>3312258926</td>\n",
       "      <td>2019-08-15</td>\n",
       "      <td>30.4</td>\n",
       "      <td>B</td>\n",
       "    </tr>\n",
       "    <tr>\n",
       "      <th>1</th>\n",
       "      <td>2804400009</td>\n",
       "      <td>3642806036</td>\n",
       "      <td>2019-08-15</td>\n",
       "      <td>15.2</td>\n",
       "      <td>B</td>\n",
       "    </tr>\n",
       "    <tr>\n",
       "      <th>3</th>\n",
       "      <td>3797467345</td>\n",
       "      <td>1196621759</td>\n",
       "      <td>2019-08-15</td>\n",
       "      <td>155.1</td>\n",
       "      <td>B</td>\n",
       "    </tr>\n",
       "    <tr>\n",
       "      <th>4</th>\n",
       "      <td>2282983706</td>\n",
       "      <td>2322279887</td>\n",
       "      <td>2019-08-15</td>\n",
       "      <td>40.5</td>\n",
       "      <td>B</td>\n",
       "    </tr>\n",
       "    <tr>\n",
       "      <th>5</th>\n",
       "      <td>182168103</td>\n",
       "      <td>935554773</td>\n",
       "      <td>2019-08-15</td>\n",
       "      <td>35.0</td>\n",
       "      <td>B</td>\n",
       "    </tr>\n",
       "  </tbody>\n",
       "</table>\n",
       "</div>"
      ],
      "text/plain": [
       "   transactionid   visitorid       date  revenue group\n",
       "0     3667963787  3312258926 2019-08-15     30.4     B\n",
       "1     2804400009  3642806036 2019-08-15     15.2     B\n",
       "3     3797467345  1196621759 2019-08-15    155.1     B\n",
       "4     2282983706  2322279887 2019-08-15     40.5     B\n",
       "5      182168103   935554773 2019-08-15     35.0     B"
      ]
     },
     "execution_count": 16,
     "metadata": {},
     "output_type": "execute_result"
    }
   ],
   "source": [
    "a_orders = orders.query(\"group == 'A'\")\n",
    "a_orders.head()\n",
    "b_orders = orders.query(\"group == 'B'\")\n",
    "b_orders.head()"
   ]
  },
  {
   "cell_type": "code",
   "execution_count": 17,
   "id": "ef9eae0a",
   "metadata": {
    "ExecuteTime": {
     "end_time": "2022-11-12T15:59:33.538129Z",
     "start_time": "2022-11-12T15:59:33.457010Z"
    }
   },
   "outputs": [
    {
     "data": {
      "text/html": [
       "<div>\n",
       "<style scoped>\n",
       "    .dataframe tbody tr th:only-of-type {\n",
       "        vertical-align: middle;\n",
       "    }\n",
       "\n",
       "    .dataframe tbody tr th {\n",
       "        vertical-align: top;\n",
       "    }\n",
       "\n",
       "    .dataframe thead th {\n",
       "        text-align: right;\n",
       "    }\n",
       "</style>\n",
       "<table border=\"1\" class=\"dataframe\">\n",
       "  <thead>\n",
       "    <tr style=\"text-align: right;\">\n",
       "      <th></th>\n",
       "      <th>date</th>\n",
       "      <th>group</th>\n",
       "      <th>visits</th>\n",
       "    </tr>\n",
       "  </thead>\n",
       "  <tbody>\n",
       "    <tr>\n",
       "      <th>31</th>\n",
       "      <td>2019-08-01</td>\n",
       "      <td>B</td>\n",
       "      <td>713</td>\n",
       "    </tr>\n",
       "    <tr>\n",
       "      <th>32</th>\n",
       "      <td>2019-08-02</td>\n",
       "      <td>B</td>\n",
       "      <td>581</td>\n",
       "    </tr>\n",
       "    <tr>\n",
       "      <th>33</th>\n",
       "      <td>2019-08-03</td>\n",
       "      <td>B</td>\n",
       "      <td>509</td>\n",
       "    </tr>\n",
       "    <tr>\n",
       "      <th>34</th>\n",
       "      <td>2019-08-04</td>\n",
       "      <td>B</td>\n",
       "      <td>770</td>\n",
       "    </tr>\n",
       "    <tr>\n",
       "      <th>35</th>\n",
       "      <td>2019-08-05</td>\n",
       "      <td>B</td>\n",
       "      <td>707</td>\n",
       "    </tr>\n",
       "  </tbody>\n",
       "</table>\n",
       "</div>"
      ],
      "text/plain": [
       "         date group  visits\n",
       "31 2019-08-01     B     713\n",
       "32 2019-08-02     B     581\n",
       "33 2019-08-03     B     509\n",
       "34 2019-08-04     B     770\n",
       "35 2019-08-05     B     707"
      ]
     },
     "execution_count": 17,
     "metadata": {},
     "output_type": "execute_result"
    }
   ],
   "source": [
    "a_visits = visits.query(\"group == 'A'\")\n",
    "a_visits.head()\n",
    "b_visits = visits.query(\"group == 'B'\")\n",
    "b_visits.head()"
   ]
  },
  {
   "cell_type": "code",
   "execution_count": 18,
   "id": "e43dd99b",
   "metadata": {
    "ExecuteTime": {
     "end_time": "2022-11-12T15:59:33.711202Z",
     "start_time": "2022-11-12T15:59:33.571040Z"
    }
   },
   "outputs": [
    {
     "data": {
      "text/html": [
       "<div>\n",
       "<style scoped>\n",
       "    .dataframe tbody tr th:only-of-type {\n",
       "        vertical-align: middle;\n",
       "    }\n",
       "\n",
       "    .dataframe tbody tr th {\n",
       "        vertical-align: top;\n",
       "    }\n",
       "\n",
       "    .dataframe thead th {\n",
       "        text-align: right;\n",
       "    }\n",
       "</style>\n",
       "<table border=\"1\" class=\"dataframe\">\n",
       "  <thead>\n",
       "    <tr style=\"text-align: right;\">\n",
       "      <th></th>\n",
       "      <th>date</th>\n",
       "      <th>revenue</th>\n",
       "      <th>transactionid</th>\n",
       "    </tr>\n",
       "  </thead>\n",
       "  <tbody>\n",
       "    <tr>\n",
       "      <th>0</th>\n",
       "      <td>2019-08-01</td>\n",
       "      <td>2266.6</td>\n",
       "      <td>23</td>\n",
       "    </tr>\n",
       "    <tr>\n",
       "      <th>1</th>\n",
       "      <td>2019-08-02</td>\n",
       "      <td>1503.5</td>\n",
       "      <td>20</td>\n",
       "    </tr>\n",
       "    <tr>\n",
       "      <th>2</th>\n",
       "      <td>2019-08-03</td>\n",
       "      <td>1815.2</td>\n",
       "      <td>24</td>\n",
       "    </tr>\n",
       "    <tr>\n",
       "      <th>3</th>\n",
       "      <td>2019-08-04</td>\n",
       "      <td>990.6</td>\n",
       "      <td>12</td>\n",
       "    </tr>\n",
       "    <tr>\n",
       "      <th>4</th>\n",
       "      <td>2019-08-05</td>\n",
       "      <td>1988.1</td>\n",
       "      <td>25</td>\n",
       "    </tr>\n",
       "  </tbody>\n",
       "</table>\n",
       "</div>"
      ],
      "text/plain": [
       "        date  revenue  transactionid\n",
       "0 2019-08-01   2266.6             23\n",
       "1 2019-08-02   1503.5             20\n",
       "2 2019-08-03   1815.2             24\n",
       "3 2019-08-04    990.6             12\n",
       "4 2019-08-05   1988.1             25"
      ]
     },
     "execution_count": 18,
     "metadata": {},
     "output_type": "execute_result"
    }
   ],
   "source": [
    "a_orders_grouped = a_orders.groupby('date').agg({'revenue':'sum', 'transactionid':'count'}).reset_index()\n",
    "a_orders_grouped.head()"
   ]
  },
  {
   "cell_type": "code",
   "execution_count": 19,
   "id": "7c1620db",
   "metadata": {
    "ExecuteTime": {
     "end_time": "2022-11-12T15:59:33.806033Z",
     "start_time": "2022-11-12T15:59:33.734130Z"
    }
   },
   "outputs": [
    {
     "data": {
      "text/html": [
       "<div>\n",
       "<style scoped>\n",
       "    .dataframe tbody tr th:only-of-type {\n",
       "        vertical-align: middle;\n",
       "    }\n",
       "\n",
       "    .dataframe tbody tr th {\n",
       "        vertical-align: top;\n",
       "    }\n",
       "\n",
       "    .dataframe thead th {\n",
       "        text-align: right;\n",
       "    }\n",
       "</style>\n",
       "<table border=\"1\" class=\"dataframe\">\n",
       "  <thead>\n",
       "    <tr style=\"text-align: right;\">\n",
       "      <th></th>\n",
       "      <th>date</th>\n",
       "      <th>revenue</th>\n",
       "      <th>transactionid</th>\n",
       "      <th>cumul_rev</th>\n",
       "    </tr>\n",
       "  </thead>\n",
       "  <tbody>\n",
       "    <tr>\n",
       "      <th>0</th>\n",
       "      <td>2019-08-01</td>\n",
       "      <td>2266.6</td>\n",
       "      <td>23</td>\n",
       "      <td>2266.6</td>\n",
       "    </tr>\n",
       "    <tr>\n",
       "      <th>1</th>\n",
       "      <td>2019-08-02</td>\n",
       "      <td>1503.5</td>\n",
       "      <td>20</td>\n",
       "      <td>3770.1</td>\n",
       "    </tr>\n",
       "    <tr>\n",
       "      <th>2</th>\n",
       "      <td>2019-08-03</td>\n",
       "      <td>1815.2</td>\n",
       "      <td>24</td>\n",
       "      <td>5585.3</td>\n",
       "    </tr>\n",
       "    <tr>\n",
       "      <th>3</th>\n",
       "      <td>2019-08-04</td>\n",
       "      <td>990.6</td>\n",
       "      <td>12</td>\n",
       "      <td>6575.9</td>\n",
       "    </tr>\n",
       "    <tr>\n",
       "      <th>4</th>\n",
       "      <td>2019-08-05</td>\n",
       "      <td>1988.1</td>\n",
       "      <td>25</td>\n",
       "      <td>8564.0</td>\n",
       "    </tr>\n",
       "  </tbody>\n",
       "</table>\n",
       "</div>"
      ],
      "text/plain": [
       "        date  revenue  transactionid  cumul_rev\n",
       "0 2019-08-01   2266.6             23     2266.6\n",
       "1 2019-08-02   1503.5             20     3770.1\n",
       "2 2019-08-03   1815.2             24     5585.3\n",
       "3 2019-08-04    990.6             12     6575.9\n",
       "4 2019-08-05   1988.1             25     8564.0"
      ]
     },
     "execution_count": 19,
     "metadata": {},
     "output_type": "execute_result"
    }
   ],
   "source": [
    "a_orders_grouped['cumul_rev']=a_orders_grouped['revenue'].cumsum()\n",
    "a_orders_grouped.head()"
   ]
  },
  {
   "cell_type": "code",
   "execution_count": 20,
   "id": "ec8095ea",
   "metadata": {
    "ExecuteTime": {
     "end_time": "2022-11-12T15:59:33.914887Z",
     "start_time": "2022-11-12T15:59:33.817994Z"
    }
   },
   "outputs": [
    {
     "data": {
      "text/html": [
       "<div>\n",
       "<style scoped>\n",
       "    .dataframe tbody tr th:only-of-type {\n",
       "        vertical-align: middle;\n",
       "    }\n",
       "\n",
       "    .dataframe tbody tr th {\n",
       "        vertical-align: top;\n",
       "    }\n",
       "\n",
       "    .dataframe thead th {\n",
       "        text-align: right;\n",
       "    }\n",
       "</style>\n",
       "<table border=\"1\" class=\"dataframe\">\n",
       "  <thead>\n",
       "    <tr style=\"text-align: right;\">\n",
       "      <th></th>\n",
       "      <th>date</th>\n",
       "      <th>revenue</th>\n",
       "      <th>transactionid</th>\n",
       "      <th>cumul_rev</th>\n",
       "    </tr>\n",
       "  </thead>\n",
       "  <tbody>\n",
       "    <tr>\n",
       "      <th>0</th>\n",
       "      <td>2019-08-01</td>\n",
       "      <td>1258.8</td>\n",
       "      <td>19</td>\n",
       "      <td>1258.8</td>\n",
       "    </tr>\n",
       "    <tr>\n",
       "      <th>1</th>\n",
       "      <td>2019-08-02</td>\n",
       "      <td>2568.1</td>\n",
       "      <td>23</td>\n",
       "      <td>3826.9</td>\n",
       "    </tr>\n",
       "    <tr>\n",
       "      <th>2</th>\n",
       "      <td>2019-08-03</td>\n",
       "      <td>1386.7</td>\n",
       "      <td>15</td>\n",
       "      <td>5213.6</td>\n",
       "    </tr>\n",
       "    <tr>\n",
       "      <th>3</th>\n",
       "      <td>2019-08-04</td>\n",
       "      <td>1661.8</td>\n",
       "      <td>15</td>\n",
       "      <td>6875.4</td>\n",
       "    </tr>\n",
       "    <tr>\n",
       "      <th>4</th>\n",
       "      <td>2019-08-05</td>\n",
       "      <td>1454.8</td>\n",
       "      <td>22</td>\n",
       "      <td>8330.2</td>\n",
       "    </tr>\n",
       "  </tbody>\n",
       "</table>\n",
       "</div>"
      ],
      "text/plain": [
       "        date  revenue  transactionid  cumul_rev\n",
       "0 2019-08-01   1258.8             19     1258.8\n",
       "1 2019-08-02   2568.1             23     3826.9\n",
       "2 2019-08-03   1386.7             15     5213.6\n",
       "3 2019-08-04   1661.8             15     6875.4\n",
       "4 2019-08-05   1454.8             22     8330.2"
      ]
     },
     "execution_count": 20,
     "metadata": {},
     "output_type": "execute_result"
    }
   ],
   "source": [
    "b_orders_grouped = b_orders.groupby('date').agg({'revenue':'sum', 'transactionid':'count'}).reset_index()\n",
    "b_orders_grouped.head()\n",
    "b_orders_grouped['cumul_rev']=b_orders_grouped['revenue'].cumsum()\n",
    "b_orders_grouped.head()"
   ]
  },
  {
   "cell_type": "code",
   "execution_count": 21,
   "id": "191063d0",
   "metadata": {
    "ExecuteTime": {
     "end_time": "2022-11-12T15:59:37.895881Z",
     "start_time": "2022-11-12T15:59:33.925859Z"
    }
   },
   "outputs": [
    {
     "data": {
      "text/plain": [
       "Text(0, 0.5, 'revenue in currency')"
      ]
     },
     "execution_count": 21,
     "metadata": {},
     "output_type": "execute_result"
    },
    {
     "data": {
      "image/png": "[encoded data removed]",
      "text/plain": [
       "<Figure size 1080x432 with 1 Axes>"
      ]
     },
     "metadata": {
      "needs_background": "light"
     },
     "output_type": "display_data"
    }
   ],
   "source": [
    "plt.rcParams[\"figure.figsize\"] = (15,6)\n",
    "plt.plot(a_orders_grouped['date'], a_orders_grouped['cumul_rev'], label='revenue in A group')\n",
    "plt.plot(b_orders_grouped['date'], b_orders_grouped['cumul_rev'], label='revenue in B group')\n",
    "plt.legend()\n",
    "plt.title(\"cumulative revenue by group\")\n",
    "plt.ylabel(\"revenue in currency\")"
   ]
  },
  {
   "cell_type": "markdown",
   "id": "945e28e5",
   "metadata": {},
   "source": [
    "looks like the revenues were pretty close, then B got the lead, a little tie between and then B won by a landslide.\n",
    "in my eyes it could've been one big purchase that got B group the win, we'll have to check for outliers."
   ]
  },
  {
   "cell_type": "markdown",
   "id": "03b7afc5",
   "metadata": {},
   "source": [
    "<div class=\"alert alert-block alert-success\">\n",
    "<b>Reviewer's comment v1:</b>\n",
    "    \n",
    "Very nice data visualization.\n",
    "\n",
    "It is a matter of taste, but you can also use `plt.grid()` to add grid to your graph and rotate x-axis ticks."
   ]
  },
  {
   "cell_type": "markdown",
   "id": "6d604ae2",
   "metadata": {},
   "source": [
    "## Graph cumulative average order size by group"
   ]
  },
  {
   "cell_type": "markdown",
   "id": "ae5f07a0",
   "metadata": {},
   "source": [
    "revenue by number of purchases."
   ]
  },
  {
   "cell_type": "code",
   "execution_count": 22,
   "id": "fc955304",
   "metadata": {
    "ExecuteTime": {
     "end_time": "2022-11-12T15:59:38.164567Z",
     "start_time": "2022-11-12T15:59:37.921810Z"
    }
   },
   "outputs": [
    {
     "data": {
      "text/html": [
       "<div>\n",
       "<style scoped>\n",
       "    .dataframe tbody tr th:only-of-type {\n",
       "        vertical-align: middle;\n",
       "    }\n",
       "\n",
       "    .dataframe tbody tr th {\n",
       "        vertical-align: top;\n",
       "    }\n",
       "\n",
       "    .dataframe thead th {\n",
       "        text-align: right;\n",
       "    }\n",
       "</style>\n",
       "<table border=\"1\" class=\"dataframe\">\n",
       "  <thead>\n",
       "    <tr style=\"text-align: right;\">\n",
       "      <th></th>\n",
       "      <th>date</th>\n",
       "      <th>revenue</th>\n",
       "      <th>transactionid</th>\n",
       "      <th>cumul_rev</th>\n",
       "      <th>cumul_purch</th>\n",
       "    </tr>\n",
       "  </thead>\n",
       "  <tbody>\n",
       "    <tr>\n",
       "      <th>0</th>\n",
       "      <td>2019-08-01</td>\n",
       "      <td>2266.6</td>\n",
       "      <td>23</td>\n",
       "      <td>2266.6</td>\n",
       "      <td>23</td>\n",
       "    </tr>\n",
       "    <tr>\n",
       "      <th>1</th>\n",
       "      <td>2019-08-02</td>\n",
       "      <td>1503.5</td>\n",
       "      <td>20</td>\n",
       "      <td>3770.1</td>\n",
       "      <td>43</td>\n",
       "    </tr>\n",
       "    <tr>\n",
       "      <th>2</th>\n",
       "      <td>2019-08-03</td>\n",
       "      <td>1815.2</td>\n",
       "      <td>24</td>\n",
       "      <td>5585.3</td>\n",
       "      <td>67</td>\n",
       "    </tr>\n",
       "    <tr>\n",
       "      <th>3</th>\n",
       "      <td>2019-08-04</td>\n",
       "      <td>990.6</td>\n",
       "      <td>12</td>\n",
       "      <td>6575.9</td>\n",
       "      <td>79</td>\n",
       "    </tr>\n",
       "    <tr>\n",
       "      <th>4</th>\n",
       "      <td>2019-08-05</td>\n",
       "      <td>1988.1</td>\n",
       "      <td>25</td>\n",
       "      <td>8564.0</td>\n",
       "      <td>104</td>\n",
       "    </tr>\n",
       "  </tbody>\n",
       "</table>\n",
       "</div>"
      ],
      "text/plain": [
       "        date  revenue  transactionid  cumul_rev  cumul_purch\n",
       "0 2019-08-01   2266.6             23     2266.6           23\n",
       "1 2019-08-02   1503.5             20     3770.1           43\n",
       "2 2019-08-03   1815.2             24     5585.3           67\n",
       "3 2019-08-04    990.6             12     6575.9           79\n",
       "4 2019-08-05   1988.1             25     8564.0          104"
      ]
     },
     "execution_count": 22,
     "metadata": {},
     "output_type": "execute_result"
    }
   ],
   "source": [
    "a_orders_grouped['cumul_purch']=a_orders_grouped['transactionid'].cumsum()\n",
    "a_orders_grouped.head()"
   ]
  },
  {
   "cell_type": "code",
   "execution_count": 23,
   "id": "cf964de4",
   "metadata": {
    "ExecuteTime": {
     "end_time": "2022-11-12T15:59:38.447006Z",
     "start_time": "2022-11-12T15:59:38.193578Z"
    }
   },
   "outputs": [
    {
     "data": {
      "text/html": [
       "<div>\n",
       "<style scoped>\n",
       "    .dataframe tbody tr th:only-of-type {\n",
       "        vertical-align: middle;\n",
       "    }\n",
       "\n",
       "    .dataframe tbody tr th {\n",
       "        vertical-align: top;\n",
       "    }\n",
       "\n",
       "    .dataframe thead th {\n",
       "        text-align: right;\n",
       "    }\n",
       "</style>\n",
       "<table border=\"1\" class=\"dataframe\">\n",
       "  <thead>\n",
       "    <tr style=\"text-align: right;\">\n",
       "      <th></th>\n",
       "      <th>date</th>\n",
       "      <th>revenue</th>\n",
       "      <th>transactionid</th>\n",
       "      <th>cumul_rev</th>\n",
       "      <th>cumul_purch</th>\n",
       "    </tr>\n",
       "  </thead>\n",
       "  <tbody>\n",
       "    <tr>\n",
       "      <th>0</th>\n",
       "      <td>2019-08-01</td>\n",
       "      <td>1258.8</td>\n",
       "      <td>19</td>\n",
       "      <td>1258.8</td>\n",
       "      <td>19</td>\n",
       "    </tr>\n",
       "    <tr>\n",
       "      <th>1</th>\n",
       "      <td>2019-08-02</td>\n",
       "      <td>2568.1</td>\n",
       "      <td>23</td>\n",
       "      <td>3826.9</td>\n",
       "      <td>42</td>\n",
       "    </tr>\n",
       "    <tr>\n",
       "      <th>2</th>\n",
       "      <td>2019-08-03</td>\n",
       "      <td>1386.7</td>\n",
       "      <td>15</td>\n",
       "      <td>5213.6</td>\n",
       "      <td>57</td>\n",
       "    </tr>\n",
       "    <tr>\n",
       "      <th>3</th>\n",
       "      <td>2019-08-04</td>\n",
       "      <td>1661.8</td>\n",
       "      <td>15</td>\n",
       "      <td>6875.4</td>\n",
       "      <td>72</td>\n",
       "    </tr>\n",
       "    <tr>\n",
       "      <th>4</th>\n",
       "      <td>2019-08-05</td>\n",
       "      <td>1454.8</td>\n",
       "      <td>22</td>\n",
       "      <td>8330.2</td>\n",
       "      <td>94</td>\n",
       "    </tr>\n",
       "  </tbody>\n",
       "</table>\n",
       "</div>"
      ],
      "text/plain": [
       "        date  revenue  transactionid  cumul_rev  cumul_purch\n",
       "0 2019-08-01   1258.8             19     1258.8           19\n",
       "1 2019-08-02   2568.1             23     3826.9           42\n",
       "2 2019-08-03   1386.7             15     5213.6           57\n",
       "3 2019-08-04   1661.8             15     6875.4           72\n",
       "4 2019-08-05   1454.8             22     8330.2           94"
      ]
     },
     "execution_count": 23,
     "metadata": {},
     "output_type": "execute_result"
    }
   ],
   "source": [
    "b_orders_grouped['cumul_purch']=b_orders_grouped['transactionid'].cumsum()\n",
    "b_orders_grouped.head()"
   ]
  },
  {
   "cell_type": "code",
   "execution_count": 24,
   "id": "56ab07fb",
   "metadata": {
    "ExecuteTime": {
     "end_time": "2022-11-12T15:59:38.573762Z",
     "start_time": "2022-11-12T15:59:38.458975Z"
    }
   },
   "outputs": [
    {
     "data": {
      "text/html": [
       "<div>\n",
       "<style scoped>\n",
       "    .dataframe tbody tr th:only-of-type {\n",
       "        vertical-align: middle;\n",
       "    }\n",
       "\n",
       "    .dataframe tbody tr th {\n",
       "        vertical-align: top;\n",
       "    }\n",
       "\n",
       "    .dataframe thead th {\n",
       "        text-align: right;\n",
       "    }\n",
       "</style>\n",
       "<table border=\"1\" class=\"dataframe\">\n",
       "  <thead>\n",
       "    <tr style=\"text-align: right;\">\n",
       "      <th></th>\n",
       "      <th>date</th>\n",
       "      <th>revenue</th>\n",
       "      <th>transactionid</th>\n",
       "      <th>cumul_rev</th>\n",
       "      <th>cumul_purch</th>\n",
       "      <th>cumul_avch</th>\n",
       "    </tr>\n",
       "  </thead>\n",
       "  <tbody>\n",
       "    <tr>\n",
       "      <th>0</th>\n",
       "      <td>2019-08-01</td>\n",
       "      <td>2266.6</td>\n",
       "      <td>23</td>\n",
       "      <td>2266.6</td>\n",
       "      <td>23</td>\n",
       "      <td>98.547826</td>\n",
       "    </tr>\n",
       "    <tr>\n",
       "      <th>1</th>\n",
       "      <td>2019-08-02</td>\n",
       "      <td>1503.5</td>\n",
       "      <td>20</td>\n",
       "      <td>3770.1</td>\n",
       "      <td>43</td>\n",
       "      <td>87.676744</td>\n",
       "    </tr>\n",
       "    <tr>\n",
       "      <th>2</th>\n",
       "      <td>2019-08-03</td>\n",
       "      <td>1815.2</td>\n",
       "      <td>24</td>\n",
       "      <td>5585.3</td>\n",
       "      <td>67</td>\n",
       "      <td>83.362687</td>\n",
       "    </tr>\n",
       "    <tr>\n",
       "      <th>3</th>\n",
       "      <td>2019-08-04</td>\n",
       "      <td>990.6</td>\n",
       "      <td>12</td>\n",
       "      <td>6575.9</td>\n",
       "      <td>79</td>\n",
       "      <td>83.239241</td>\n",
       "    </tr>\n",
       "    <tr>\n",
       "      <th>4</th>\n",
       "      <td>2019-08-05</td>\n",
       "      <td>1988.1</td>\n",
       "      <td>25</td>\n",
       "      <td>8564.0</td>\n",
       "      <td>104</td>\n",
       "      <td>82.346154</td>\n",
       "    </tr>\n",
       "  </tbody>\n",
       "</table>\n",
       "</div>"
      ],
      "text/plain": [
       "        date  revenue  transactionid  cumul_rev  cumul_purch  cumul_avch\n",
       "0 2019-08-01   2266.6             23     2266.6           23   98.547826\n",
       "1 2019-08-02   1503.5             20     3770.1           43   87.676744\n",
       "2 2019-08-03   1815.2             24     5585.3           67   83.362687\n",
       "3 2019-08-04    990.6             12     6575.9           79   83.239241\n",
       "4 2019-08-05   1988.1             25     8564.0          104   82.346154"
      ]
     },
     "execution_count": 24,
     "metadata": {},
     "output_type": "execute_result"
    }
   ],
   "source": [
    "a_orders_grouped['cumul_avch']=a_orders_grouped['cumul_rev']/a_orders_grouped['cumul_purch']\n",
    "a_orders_grouped.head()"
   ]
  },
  {
   "cell_type": "code",
   "execution_count": 25,
   "id": "028d6a24",
   "metadata": {
    "ExecuteTime": {
     "end_time": "2022-11-12T15:59:38.682537Z",
     "start_time": "2022-11-12T15:59:38.596701Z"
    }
   },
   "outputs": [
    {
     "data": {
      "text/html": [
       "<div>\n",
       "<style scoped>\n",
       "    .dataframe tbody tr th:only-of-type {\n",
       "        vertical-align: middle;\n",
       "    }\n",
       "\n",
       "    .dataframe tbody tr th {\n",
       "        vertical-align: top;\n",
       "    }\n",
       "\n",
       "    .dataframe thead th {\n",
       "        text-align: right;\n",
       "    }\n",
       "</style>\n",
       "<table border=\"1\" class=\"dataframe\">\n",
       "  <thead>\n",
       "    <tr style=\"text-align: right;\">\n",
       "      <th></th>\n",
       "      <th>date</th>\n",
       "      <th>revenue</th>\n",
       "      <th>transactionid</th>\n",
       "      <th>cumul_rev</th>\n",
       "      <th>cumul_purch</th>\n",
       "      <th>cumul_avch</th>\n",
       "    </tr>\n",
       "  </thead>\n",
       "  <tbody>\n",
       "    <tr>\n",
       "      <th>0</th>\n",
       "      <td>2019-08-01</td>\n",
       "      <td>1258.8</td>\n",
       "      <td>19</td>\n",
       "      <td>1258.8</td>\n",
       "      <td>19</td>\n",
       "      <td>66.252632</td>\n",
       "    </tr>\n",
       "    <tr>\n",
       "      <th>1</th>\n",
       "      <td>2019-08-02</td>\n",
       "      <td>2568.1</td>\n",
       "      <td>23</td>\n",
       "      <td>3826.9</td>\n",
       "      <td>42</td>\n",
       "      <td>91.116667</td>\n",
       "    </tr>\n",
       "    <tr>\n",
       "      <th>2</th>\n",
       "      <td>2019-08-03</td>\n",
       "      <td>1386.7</td>\n",
       "      <td>15</td>\n",
       "      <td>5213.6</td>\n",
       "      <td>57</td>\n",
       "      <td>91.466667</td>\n",
       "    </tr>\n",
       "    <tr>\n",
       "      <th>3</th>\n",
       "      <td>2019-08-04</td>\n",
       "      <td>1661.8</td>\n",
       "      <td>15</td>\n",
       "      <td>6875.4</td>\n",
       "      <td>72</td>\n",
       "      <td>95.491667</td>\n",
       "    </tr>\n",
       "    <tr>\n",
       "      <th>4</th>\n",
       "      <td>2019-08-05</td>\n",
       "      <td>1454.8</td>\n",
       "      <td>22</td>\n",
       "      <td>8330.2</td>\n",
       "      <td>94</td>\n",
       "      <td>88.619149</td>\n",
       "    </tr>\n",
       "  </tbody>\n",
       "</table>\n",
       "</div>"
      ],
      "text/plain": [
       "        date  revenue  transactionid  cumul_rev  cumul_purch  cumul_avch\n",
       "0 2019-08-01   1258.8             19     1258.8           19   66.252632\n",
       "1 2019-08-02   2568.1             23     3826.9           42   91.116667\n",
       "2 2019-08-03   1386.7             15     5213.6           57   91.466667\n",
       "3 2019-08-04   1661.8             15     6875.4           72   95.491667\n",
       "4 2019-08-05   1454.8             22     8330.2           94   88.619149"
      ]
     },
     "execution_count": 25,
     "metadata": {},
     "output_type": "execute_result"
    }
   ],
   "source": [
    "b_orders_grouped['cumul_avch']=b_orders_grouped['cumul_rev']/b_orders_grouped['cumul_purch']\n",
    "b_orders_grouped.head()"
   ]
  },
  {
   "cell_type": "code",
   "execution_count": 26,
   "id": "4066ed71",
   "metadata": {
    "ExecuteTime": {
     "end_time": "2022-11-12T15:59:40.323912Z",
     "start_time": "2022-11-12T15:59:38.692384Z"
    }
   },
   "outputs": [
    {
     "data": {
      "text/plain": [
       "Text(0.5, 1.0, 'cumulative average order size by group')"
      ]
     },
     "execution_count": 26,
     "metadata": {},
     "output_type": "execute_result"
    },
    {
     "data": {
      "image/png": "[encoded data removed]",
      "text/plain": [
       "<Figure size 1080x432 with 1 Axes>"
      ]
     },
     "metadata": {
      "needs_background": "light"
     },
     "output_type": "display_data"
    }
   ],
   "source": [
    "plt.plot(a_orders_grouped['date'], a_orders_grouped['cumul_avch'], label='avg order size A group')\n",
    "plt.plot(b_orders_grouped['date'], b_orders_grouped['cumul_avch'], label='avg order size B group')\n",
    "plt.legend()\n",
    "plt.ylabel('price')\n",
    "plt.title(\"cumulative average order size by group\")"
   ]
  },
  {
   "cell_type": "markdown",
   "id": "44c77573",
   "metadata": {},
   "source": [
    "we can see the same bump that won the B group revenue here, increasing the avg order size, and same overall behaviour.\n",
    "the bump could still be attributed to outliers."
   ]
  },
  {
   "cell_type": "markdown",
   "id": "1a793eb6",
   "metadata": {},
   "source": [
    "## Graph relative difference in cumulative average order size for group B compared with group A"
   ]
  },
  {
   "cell_type": "code",
   "execution_count": 27,
   "id": "a854b164",
   "metadata": {
    "ExecuteTime": {
     "end_time": "2022-11-12T15:59:41.842866Z",
     "start_time": "2022-11-12T15:59:40.334885Z"
    }
   },
   "outputs": [
    {
     "data": {
      "text/plain": [
       "Text(0.5, 1.0, 'relative difference in cumulative average order size (b compared to a)')"
      ]
     },
     "execution_count": 27,
     "metadata": {},
     "output_type": "execute_result"
    },
    {
     "data": {
      "image/png": "[encoded data removed]",
      "text/plain": [
       "<Figure size 1080x432 with 1 Axes>"
      ]
     },
     "metadata": {
      "needs_background": "light"
     },
     "output_type": "display_data"
    }
   ],
   "source": [
    "plt.plot(b_orders_grouped['date'], (b_orders_grouped['cumul_avch']/a_orders_grouped['cumul_avch'] - 1), label='relative difference in cumulative avg order size')\n",
    "plt.hlines(y=0, xmin=b_orders_grouped['date'].min() , xmax=b_orders_grouped['date'].max(), linestyles= 'dashed')\n",
    "plt.legend()\n",
    "plt.title(\"relative difference in cumulative average order size (b compared to a)\")"
   ]
  },
  {
   "cell_type": "markdown",
   "id": "e9a597ef",
   "metadata": {},
   "source": [
    "like we saw in the revenue graph, it took some time for B group to grab the lead. looks as though it would stabilize around a tie in august if it weren't for the big bump we talked about."
   ]
  },
  {
   "cell_type": "markdown",
   "id": "fe5fbacc",
   "metadata": {},
   "source": [
    "## Calculate and plot each group's conversion rate (daily orders/daily visits)\n",
    "\n",
    "Describe the difference"
   ]
  },
  {
   "cell_type": "markdown",
   "id": "4fd24d1c",
   "metadata": {},
   "source": [
    "we'll join the visits dataframe to our grouped dataframes on dates, that way we can add a conversion column."
   ]
  },
  {
   "cell_type": "code",
   "execution_count": 28,
   "id": "2112086b",
   "metadata": {
    "ExecuteTime": {
     "end_time": "2022-11-12T15:59:41.905210Z",
     "start_time": "2022-11-12T15:59:41.849005Z"
    }
   },
   "outputs": [
    {
     "data": {
      "text/html": [
       "<div>\n",
       "<style scoped>\n",
       "    .dataframe tbody tr th:only-of-type {\n",
       "        vertical-align: middle;\n",
       "    }\n",
       "\n",
       "    .dataframe tbody tr th {\n",
       "        vertical-align: top;\n",
       "    }\n",
       "\n",
       "    .dataframe thead th {\n",
       "        text-align: right;\n",
       "    }\n",
       "</style>\n",
       "<table border=\"1\" class=\"dataframe\">\n",
       "  <thead>\n",
       "    <tr style=\"text-align: right;\">\n",
       "      <th></th>\n",
       "      <th>date</th>\n",
       "      <th>revenue</th>\n",
       "      <th>transactions</th>\n",
       "      <th>cumul_rev</th>\n",
       "      <th>cumul_purch</th>\n",
       "      <th>cumul_avch</th>\n",
       "      <th>group</th>\n",
       "      <th>visits</th>\n",
       "    </tr>\n",
       "  </thead>\n",
       "  <tbody>\n",
       "    <tr>\n",
       "      <th>0</th>\n",
       "      <td>2019-08-01</td>\n",
       "      <td>2266.6</td>\n",
       "      <td>23</td>\n",
       "      <td>2266.6</td>\n",
       "      <td>23</td>\n",
       "      <td>98.547826</td>\n",
       "      <td>A</td>\n",
       "      <td>719</td>\n",
       "    </tr>\n",
       "    <tr>\n",
       "      <th>1</th>\n",
       "      <td>2019-08-02</td>\n",
       "      <td>1503.5</td>\n",
       "      <td>20</td>\n",
       "      <td>3770.1</td>\n",
       "      <td>43</td>\n",
       "      <td>87.676744</td>\n",
       "      <td>A</td>\n",
       "      <td>619</td>\n",
       "    </tr>\n",
       "    <tr>\n",
       "      <th>2</th>\n",
       "      <td>2019-08-03</td>\n",
       "      <td>1815.2</td>\n",
       "      <td>24</td>\n",
       "      <td>5585.3</td>\n",
       "      <td>67</td>\n",
       "      <td>83.362687</td>\n",
       "      <td>A</td>\n",
       "      <td>507</td>\n",
       "    </tr>\n",
       "    <tr>\n",
       "      <th>3</th>\n",
       "      <td>2019-08-04</td>\n",
       "      <td>990.6</td>\n",
       "      <td>12</td>\n",
       "      <td>6575.9</td>\n",
       "      <td>79</td>\n",
       "      <td>83.239241</td>\n",
       "      <td>A</td>\n",
       "      <td>717</td>\n",
       "    </tr>\n",
       "    <tr>\n",
       "      <th>4</th>\n",
       "      <td>2019-08-05</td>\n",
       "      <td>1988.1</td>\n",
       "      <td>25</td>\n",
       "      <td>8564.0</td>\n",
       "      <td>104</td>\n",
       "      <td>82.346154</td>\n",
       "      <td>A</td>\n",
       "      <td>756</td>\n",
       "    </tr>\n",
       "  </tbody>\n",
       "</table>\n",
       "</div>"
      ],
      "text/plain": [
       "        date  revenue  transactions  cumul_rev  cumul_purch  cumul_avch group  \\\n",
       "0 2019-08-01   2266.6            23     2266.6           23   98.547826     A   \n",
       "1 2019-08-02   1503.5            20     3770.1           43   87.676744     A   \n",
       "2 2019-08-03   1815.2            24     5585.3           67   83.362687     A   \n",
       "3 2019-08-04    990.6            12     6575.9           79   83.239241     A   \n",
       "4 2019-08-05   1988.1            25     8564.0          104   82.346154     A   \n",
       "\n",
       "   visits  \n",
       "0     719  \n",
       "1     619  \n",
       "2     507  \n",
       "3     717  \n",
       "4     756  "
      ]
     },
     "execution_count": 28,
     "metadata": {},
     "output_type": "execute_result"
    }
   ],
   "source": [
    "a_orders_grouped = a_orders_grouped.merge(a_visits, on='date',how='left')\n",
    "a_orders_grouped.rename(columns = {'transactionid':'transactions'}, inplace = True)\n",
    "a_orders_grouped.head()"
   ]
  },
  {
   "cell_type": "code",
   "execution_count": 29,
   "id": "e2b728b8",
   "metadata": {
    "ExecuteTime": {
     "end_time": "2022-11-12T15:59:41.982757Z",
     "start_time": "2022-11-12T15:59:41.911313Z"
    }
   },
   "outputs": [
    {
     "data": {
      "text/html": [
       "<div>\n",
       "<style scoped>\n",
       "    .dataframe tbody tr th:only-of-type {\n",
       "        vertical-align: middle;\n",
       "    }\n",
       "\n",
       "    .dataframe tbody tr th {\n",
       "        vertical-align: top;\n",
       "    }\n",
       "\n",
       "    .dataframe thead th {\n",
       "        text-align: right;\n",
       "    }\n",
       "</style>\n",
       "<table border=\"1\" class=\"dataframe\">\n",
       "  <thead>\n",
       "    <tr style=\"text-align: right;\">\n",
       "      <th></th>\n",
       "      <th>date</th>\n",
       "      <th>revenue</th>\n",
       "      <th>transactions</th>\n",
       "      <th>cumul_rev</th>\n",
       "      <th>cumul_purch</th>\n",
       "      <th>cumul_avch</th>\n",
       "      <th>group</th>\n",
       "      <th>visits</th>\n",
       "      <th>daily_conversion</th>\n",
       "      <th>cum_trans</th>\n",
       "      <th>cum_visits</th>\n",
       "      <th>cum_conversion</th>\n",
       "    </tr>\n",
       "  </thead>\n",
       "  <tbody>\n",
       "    <tr>\n",
       "      <th>0</th>\n",
       "      <td>2019-08-01</td>\n",
       "      <td>2266.6</td>\n",
       "      <td>23</td>\n",
       "      <td>2266.6</td>\n",
       "      <td>23</td>\n",
       "      <td>98.547826</td>\n",
       "      <td>A</td>\n",
       "      <td>719</td>\n",
       "      <td>0.031989</td>\n",
       "      <td>23</td>\n",
       "      <td>719</td>\n",
       "      <td>0.031989</td>\n",
       "    </tr>\n",
       "    <tr>\n",
       "      <th>1</th>\n",
       "      <td>2019-08-02</td>\n",
       "      <td>1503.5</td>\n",
       "      <td>20</td>\n",
       "      <td>3770.1</td>\n",
       "      <td>43</td>\n",
       "      <td>87.676744</td>\n",
       "      <td>A</td>\n",
       "      <td>619</td>\n",
       "      <td>0.032310</td>\n",
       "      <td>43</td>\n",
       "      <td>1338</td>\n",
       "      <td>0.069467</td>\n",
       "    </tr>\n",
       "    <tr>\n",
       "      <th>2</th>\n",
       "      <td>2019-08-03</td>\n",
       "      <td>1815.2</td>\n",
       "      <td>24</td>\n",
       "      <td>5585.3</td>\n",
       "      <td>67</td>\n",
       "      <td>83.362687</td>\n",
       "      <td>A</td>\n",
       "      <td>507</td>\n",
       "      <td>0.047337</td>\n",
       "      <td>67</td>\n",
       "      <td>1845</td>\n",
       "      <td>0.132150</td>\n",
       "    </tr>\n",
       "    <tr>\n",
       "      <th>3</th>\n",
       "      <td>2019-08-04</td>\n",
       "      <td>990.6</td>\n",
       "      <td>12</td>\n",
       "      <td>6575.9</td>\n",
       "      <td>79</td>\n",
       "      <td>83.239241</td>\n",
       "      <td>A</td>\n",
       "      <td>717</td>\n",
       "      <td>0.016736</td>\n",
       "      <td>79</td>\n",
       "      <td>2562</td>\n",
       "      <td>0.110181</td>\n",
       "    </tr>\n",
       "    <tr>\n",
       "      <th>4</th>\n",
       "      <td>2019-08-05</td>\n",
       "      <td>1988.1</td>\n",
       "      <td>25</td>\n",
       "      <td>8564.0</td>\n",
       "      <td>104</td>\n",
       "      <td>82.346154</td>\n",
       "      <td>A</td>\n",
       "      <td>756</td>\n",
       "      <td>0.033069</td>\n",
       "      <td>104</td>\n",
       "      <td>3318</td>\n",
       "      <td>0.137566</td>\n",
       "    </tr>\n",
       "  </tbody>\n",
       "</table>\n",
       "</div>"
      ],
      "text/plain": [
       "        date  revenue  transactions  cumul_rev  cumul_purch  cumul_avch group  \\\n",
       "0 2019-08-01   2266.6            23     2266.6           23   98.547826     A   \n",
       "1 2019-08-02   1503.5            20     3770.1           43   87.676744     A   \n",
       "2 2019-08-03   1815.2            24     5585.3           67   83.362687     A   \n",
       "3 2019-08-04    990.6            12     6575.9           79   83.239241     A   \n",
       "4 2019-08-05   1988.1            25     8564.0          104   82.346154     A   \n",
       "\n",
       "   visits  daily_conversion  cum_trans  cum_visits  cum_conversion  \n",
       "0     719          0.031989         23         719        0.031989  \n",
       "1     619          0.032310         43        1338        0.069467  \n",
       "2     507          0.047337         67        1845        0.132150  \n",
       "3     717          0.016736         79        2562        0.110181  \n",
       "4     756          0.033069        104        3318        0.137566  "
      ]
     },
     "execution_count": 29,
     "metadata": {},
     "output_type": "execute_result"
    }
   ],
   "source": [
    "a_orders_grouped['daily_conversion'] = a_orders_grouped['transactions'] / a_orders_grouped['visits']\n",
    "a_orders_grouped['cum_trans'] = a_orders_grouped['transactions'].cumsum()\n",
    "a_orders_grouped['cum_visits'] = a_orders_grouped['visits'].cumsum()\n",
    "a_orders_grouped['cum_conversion'] = a_orders_grouped['cum_trans'] / a_orders_grouped['visits']\n",
    "a_orders_grouped.head()"
   ]
  },
  {
   "cell_type": "code",
   "execution_count": 30,
   "id": "6f21859a",
   "metadata": {
    "ExecuteTime": {
     "end_time": "2022-11-12T15:59:42.062040Z",
     "start_time": "2022-11-12T15:59:41.987744Z"
    }
   },
   "outputs": [
    {
     "data": {
      "text/html": [
       "<div>\n",
       "<style scoped>\n",
       "    .dataframe tbody tr th:only-of-type {\n",
       "        vertical-align: middle;\n",
       "    }\n",
       "\n",
       "    .dataframe tbody tr th {\n",
       "        vertical-align: top;\n",
       "    }\n",
       "\n",
       "    .dataframe thead th {\n",
       "        text-align: right;\n",
       "    }\n",
       "</style>\n",
       "<table border=\"1\" class=\"dataframe\">\n",
       "  <thead>\n",
       "    <tr style=\"text-align: right;\">\n",
       "      <th></th>\n",
       "      <th>date</th>\n",
       "      <th>revenue</th>\n",
       "      <th>transactions</th>\n",
       "      <th>cumul_rev</th>\n",
       "      <th>cumul_purch</th>\n",
       "      <th>cumul_avch</th>\n",
       "      <th>group</th>\n",
       "      <th>visits</th>\n",
       "    </tr>\n",
       "  </thead>\n",
       "  <tbody>\n",
       "    <tr>\n",
       "      <th>0</th>\n",
       "      <td>2019-08-01</td>\n",
       "      <td>1258.8</td>\n",
       "      <td>19</td>\n",
       "      <td>1258.8</td>\n",
       "      <td>19</td>\n",
       "      <td>66.252632</td>\n",
       "      <td>B</td>\n",
       "      <td>713</td>\n",
       "    </tr>\n",
       "    <tr>\n",
       "      <th>1</th>\n",
       "      <td>2019-08-02</td>\n",
       "      <td>2568.1</td>\n",
       "      <td>23</td>\n",
       "      <td>3826.9</td>\n",
       "      <td>42</td>\n",
       "      <td>91.116667</td>\n",
       "      <td>B</td>\n",
       "      <td>581</td>\n",
       "    </tr>\n",
       "    <tr>\n",
       "      <th>2</th>\n",
       "      <td>2019-08-03</td>\n",
       "      <td>1386.7</td>\n",
       "      <td>15</td>\n",
       "      <td>5213.6</td>\n",
       "      <td>57</td>\n",
       "      <td>91.466667</td>\n",
       "      <td>B</td>\n",
       "      <td>509</td>\n",
       "    </tr>\n",
       "    <tr>\n",
       "      <th>3</th>\n",
       "      <td>2019-08-04</td>\n",
       "      <td>1661.8</td>\n",
       "      <td>15</td>\n",
       "      <td>6875.4</td>\n",
       "      <td>72</td>\n",
       "      <td>95.491667</td>\n",
       "      <td>B</td>\n",
       "      <td>770</td>\n",
       "    </tr>\n",
       "    <tr>\n",
       "      <th>4</th>\n",
       "      <td>2019-08-05</td>\n",
       "      <td>1454.8</td>\n",
       "      <td>22</td>\n",
       "      <td>8330.2</td>\n",
       "      <td>94</td>\n",
       "      <td>88.619149</td>\n",
       "      <td>B</td>\n",
       "      <td>707</td>\n",
       "    </tr>\n",
       "  </tbody>\n",
       "</table>\n",
       "</div>"
      ],
      "text/plain": [
       "        date  revenue  transactions  cumul_rev  cumul_purch  cumul_avch group  \\\n",
       "0 2019-08-01   1258.8            19     1258.8           19   66.252632     B   \n",
       "1 2019-08-02   2568.1            23     3826.9           42   91.116667     B   \n",
       "2 2019-08-03   1386.7            15     5213.6           57   91.466667     B   \n",
       "3 2019-08-04   1661.8            15     6875.4           72   95.491667     B   \n",
       "4 2019-08-05   1454.8            22     8330.2           94   88.619149     B   \n",
       "\n",
       "   visits  \n",
       "0     713  \n",
       "1     581  \n",
       "2     509  \n",
       "3     770  \n",
       "4     707  "
      ]
     },
     "execution_count": 30,
     "metadata": {},
     "output_type": "execute_result"
    }
   ],
   "source": [
    "b_orders_grouped = b_orders_grouped.merge(b_visits, on='date',how='left')\n",
    "b_orders_grouped.rename(columns = {'transactionid':'transactions'}, inplace = True)\n",
    "b_orders_grouped.head()"
   ]
  },
  {
   "cell_type": "code",
   "execution_count": 31,
   "id": "f384499a",
   "metadata": {
    "ExecuteTime": {
     "end_time": "2022-11-12T15:59:42.201746Z",
     "start_time": "2022-11-12T15:59:42.089959Z"
    }
   },
   "outputs": [
    {
     "data": {
      "text/html": [
       "<div>\n",
       "<style scoped>\n",
       "    .dataframe tbody tr th:only-of-type {\n",
       "        vertical-align: middle;\n",
       "    }\n",
       "\n",
       "    .dataframe tbody tr th {\n",
       "        vertical-align: top;\n",
       "    }\n",
       "\n",
       "    .dataframe thead th {\n",
       "        text-align: right;\n",
       "    }\n",
       "</style>\n",
       "<table border=\"1\" class=\"dataframe\">\n",
       "  <thead>\n",
       "    <tr style=\"text-align: right;\">\n",
       "      <th></th>\n",
       "      <th>date</th>\n",
       "      <th>revenue</th>\n",
       "      <th>transactions</th>\n",
       "      <th>cumul_rev</th>\n",
       "      <th>cumul_purch</th>\n",
       "      <th>cumul_avch</th>\n",
       "      <th>group</th>\n",
       "      <th>visits</th>\n",
       "      <th>daily_conversion</th>\n",
       "      <th>cum_trans</th>\n",
       "      <th>cum_visits</th>\n",
       "      <th>cum_conversion</th>\n",
       "    </tr>\n",
       "  </thead>\n",
       "  <tbody>\n",
       "    <tr>\n",
       "      <th>0</th>\n",
       "      <td>2019-08-01</td>\n",
       "      <td>1258.8</td>\n",
       "      <td>19</td>\n",
       "      <td>1258.8</td>\n",
       "      <td>19</td>\n",
       "      <td>66.252632</td>\n",
       "      <td>B</td>\n",
       "      <td>713</td>\n",
       "      <td>0.026648</td>\n",
       "      <td>19</td>\n",
       "      <td>713</td>\n",
       "      <td>0.026648</td>\n",
       "    </tr>\n",
       "    <tr>\n",
       "      <th>1</th>\n",
       "      <td>2019-08-02</td>\n",
       "      <td>2568.1</td>\n",
       "      <td>23</td>\n",
       "      <td>3826.9</td>\n",
       "      <td>42</td>\n",
       "      <td>91.116667</td>\n",
       "      <td>B</td>\n",
       "      <td>581</td>\n",
       "      <td>0.039587</td>\n",
       "      <td>42</td>\n",
       "      <td>1294</td>\n",
       "      <td>0.072289</td>\n",
       "    </tr>\n",
       "    <tr>\n",
       "      <th>2</th>\n",
       "      <td>2019-08-03</td>\n",
       "      <td>1386.7</td>\n",
       "      <td>15</td>\n",
       "      <td>5213.6</td>\n",
       "      <td>57</td>\n",
       "      <td>91.466667</td>\n",
       "      <td>B</td>\n",
       "      <td>509</td>\n",
       "      <td>0.029470</td>\n",
       "      <td>57</td>\n",
       "      <td>1803</td>\n",
       "      <td>0.111984</td>\n",
       "    </tr>\n",
       "    <tr>\n",
       "      <th>3</th>\n",
       "      <td>2019-08-04</td>\n",
       "      <td>1661.8</td>\n",
       "      <td>15</td>\n",
       "      <td>6875.4</td>\n",
       "      <td>72</td>\n",
       "      <td>95.491667</td>\n",
       "      <td>B</td>\n",
       "      <td>770</td>\n",
       "      <td>0.019481</td>\n",
       "      <td>72</td>\n",
       "      <td>2573</td>\n",
       "      <td>0.093506</td>\n",
       "    </tr>\n",
       "    <tr>\n",
       "      <th>4</th>\n",
       "      <td>2019-08-05</td>\n",
       "      <td>1454.8</td>\n",
       "      <td>22</td>\n",
       "      <td>8330.2</td>\n",
       "      <td>94</td>\n",
       "      <td>88.619149</td>\n",
       "      <td>B</td>\n",
       "      <td>707</td>\n",
       "      <td>0.031117</td>\n",
       "      <td>94</td>\n",
       "      <td>3280</td>\n",
       "      <td>0.132956</td>\n",
       "    </tr>\n",
       "  </tbody>\n",
       "</table>\n",
       "</div>"
      ],
      "text/plain": [
       "        date  revenue  transactions  cumul_rev  cumul_purch  cumul_avch group  \\\n",
       "0 2019-08-01   1258.8            19     1258.8           19   66.252632     B   \n",
       "1 2019-08-02   2568.1            23     3826.9           42   91.116667     B   \n",
       "2 2019-08-03   1386.7            15     5213.6           57   91.466667     B   \n",
       "3 2019-08-04   1661.8            15     6875.4           72   95.491667     B   \n",
       "4 2019-08-05   1454.8            22     8330.2           94   88.619149     B   \n",
       "\n",
       "   visits  daily_conversion  cum_trans  cum_visits  cum_conversion  \n",
       "0     713          0.026648         19         713        0.026648  \n",
       "1     581          0.039587         42        1294        0.072289  \n",
       "2     509          0.029470         57        1803        0.111984  \n",
       "3     770          0.019481         72        2573        0.093506  \n",
       "4     707          0.031117         94        3280        0.132956  "
      ]
     },
     "execution_count": 31,
     "metadata": {},
     "output_type": "execute_result"
    }
   ],
   "source": [
    "b_orders_grouped['daily_conversion'] = b_orders_grouped['transactions'] / b_orders_grouped['visits']\n",
    "b_orders_grouped['cum_trans'] = b_orders_grouped['transactions'].cumsum()\n",
    "b_orders_grouped['cum_visits'] = b_orders_grouped['visits'].cumsum()\n",
    "b_orders_grouped['cum_conversion'] = b_orders_grouped['cum_trans'] / b_orders_grouped['visits']\n",
    "b_orders_grouped.head()"
   ]
  },
  {
   "cell_type": "code",
   "execution_count": 32,
   "id": "1728d13c",
   "metadata": {
    "ExecuteTime": {
     "end_time": "2022-11-12T15:59:43.386798Z",
     "start_time": "2022-11-12T15:59:42.207732Z"
    },
    "scrolled": false
   },
   "outputs": [
    {
     "data": {
      "text/plain": [
       "<matplotlib.collections.LineCollection at 0x1d97adc42e0>"
      ]
     },
     "execution_count": 32,
     "metadata": {},
     "output_type": "execute_result"
    },
    {
     "data": {
      "image/png": "[encoded data removed]",
      "text/plain": [
       "<Figure size 1080x432 with 1 Axes>"
      ]
     },
     "metadata": {
      "needs_background": "light"
     },
     "output_type": "display_data"
    }
   ],
   "source": [
    "plt.plot(a_orders_grouped['date'], a_orders_grouped['daily_conversion'], label='A group daily group daily conversion')\n",
    "plt.plot(b_orders_grouped['date'], b_orders_grouped['daily_conversion'], label='B group daily group daily conversion')\n",
    "plt.legend()\n",
    "plt.title(\"daily conversion rate per group (transactions/visits)\")\n",
    "plt.hlines(y=a_orders_grouped['daily_conversion'].mean(), xmin=b_orders_grouped['date'].min() , xmax=b_orders_grouped['date'].max(), linestyles= 'dashed',)\n",
    "plt.hlines(y=b_orders_grouped['daily_conversion'].mean(), xmin=b_orders_grouped['date'].min() , xmax=b_orders_grouped['date'].max(), linestyles= 'dashed', colors='orange')"
   ]
  },
  {
   "cell_type": "markdown",
   "id": "d3b7b2c6",
   "metadata": {},
   "source": [
    "we see an overall similar conversion behavior although the average daily conversion is higher for B group. even at the peaks which almost overlap, most of the times B group conversion reaches higher."
   ]
  },
  {
   "cell_type": "code",
   "execution_count": 33,
   "id": "f7abed04",
   "metadata": {
    "ExecuteTime": {
     "end_time": "2022-11-12T15:59:44.357192Z",
     "start_time": "2022-11-12T15:59:43.391709Z"
    }
   },
   "outputs": [
    {
     "data": {
      "text/plain": [
       "Text(0.5, 1.0, 'cumulative conversion rate per group (cumulative transactions/cumulative visits)')"
      ]
     },
     "execution_count": 33,
     "metadata": {},
     "output_type": "execute_result"
    },
    {
     "data": {
      "image/png": "[encoded data removed]",
      "text/plain": [
       "<Figure size 1080x432 with 1 Axes>"
      ]
     },
     "metadata": {
      "needs_background": "light"
     },
     "output_type": "display_data"
    }
   ],
   "source": [
    "plt.plot(a_orders_grouped['date'], a_orders_grouped['cum_conversion'], label='A group daily group daily conversion')\n",
    "plt.plot(b_orders_grouped['date'], b_orders_grouped['cum_conversion'], label='B group daily group daily conversion')\n",
    "plt.legend()\n",
    "plt.title(\"cumulative conversion rate per group (cumulative transactions/cumulative visits)\")"
   ]
  },
  {
   "cell_type": "code",
   "execution_count": 34,
   "id": "61db65f1",
   "metadata": {
    "ExecuteTime": {
     "end_time": "2022-11-12T15:59:45.065647Z",
     "start_time": "2022-11-12T15:59:44.362178Z"
    }
   },
   "outputs": [
    {
     "data": {
      "text/plain": [
       "<matplotlib.collections.LineCollection at 0x1d97b052cd0>"
      ]
     },
     "execution_count": 34,
     "metadata": {},
     "output_type": "execute_result"
    },
    {
     "data": {
      "image/png": "[encoded data removed]",
      "text/plain": [
       "<Figure size 1080x432 with 1 Axes>"
      ]
     },
     "metadata": {
      "needs_background": "light"
     },
     "output_type": "display_data"
    }
   ],
   "source": [
    "plt.plot(b_orders_grouped['date'], ((b_orders_grouped['cum_conversion']/a_orders_grouped['cum_conversion'])-1), label='(b_conversion / a_conversion) - 1')\n",
    "plt.legend()\n",
    "plt.title('relative difference between cumulative conversion')\n",
    "plt.hlines(y=0, xmin=b_orders_grouped['date'].min() , xmax=b_orders_grouped['date'].max(), linestyles= 'dashed',)"
   ]
  },
  {
   "cell_type": "markdown",
   "id": "fdcbd9ca",
   "metadata": {},
   "source": [
    "we see group b took the lead early on, with a little dip, but stabilized above group a."
   ]
  },
  {
   "cell_type": "markdown",
   "id": "764f4575",
   "metadata": {},
   "source": [
    "## Plot scatter chart of the number of order per user"
   ]
  },
  {
   "cell_type": "markdown",
   "id": "76cc39d0",
   "metadata": {},
   "source": [
    "\n",
    "grouping and counting purchases by user, creating a range for the plot using \n",
    "x_values = pd.Series(range(0,len(ordersByUsers)))\n"
   ]
  },
  {
   "cell_type": "code",
   "execution_count": 35,
   "id": "a044026e",
   "metadata": {
    "ExecuteTime": {
     "end_time": "2022-11-12T15:59:45.207334Z",
     "start_time": "2022-11-12T15:59:45.071631Z"
    }
   },
   "outputs": [
    {
     "data": {
      "text/html": [
       "<div>\n",
       "<style scoped>\n",
       "    .dataframe tbody tr th:only-of-type {\n",
       "        vertical-align: middle;\n",
       "    }\n",
       "\n",
       "    .dataframe tbody tr th {\n",
       "        vertical-align: top;\n",
       "    }\n",
       "\n",
       "    .dataframe thead th {\n",
       "        text-align: right;\n",
       "    }\n",
       "</style>\n",
       "<table border=\"1\" class=\"dataframe\">\n",
       "  <thead>\n",
       "    <tr style=\"text-align: right;\">\n",
       "      <th></th>\n",
       "      <th>visitorid</th>\n",
       "      <th>transactionid</th>\n",
       "    </tr>\n",
       "  </thead>\n",
       "  <tbody>\n",
       "    <tr>\n",
       "      <th>22</th>\n",
       "      <td>237748145</td>\n",
       "      <td>4</td>\n",
       "    </tr>\n",
       "    <tr>\n",
       "      <th>185</th>\n",
       "      <td>1614305549</td>\n",
       "      <td>3</td>\n",
       "    </tr>\n",
       "    <tr>\n",
       "      <th>66</th>\n",
       "      <td>611059232</td>\n",
       "      <td>3</td>\n",
       "    </tr>\n",
       "    <tr>\n",
       "      <th>339</th>\n",
       "      <td>2988190573</td>\n",
       "      <td>3</td>\n",
       "    </tr>\n",
       "    <tr>\n",
       "      <th>231</th>\n",
       "      <td>2108163459</td>\n",
       "      <td>3</td>\n",
       "    </tr>\n",
       "    <tr>\n",
       "      <th>443</th>\n",
       "      <td>3908431265</td>\n",
       "      <td>3</td>\n",
       "    </tr>\n",
       "    <tr>\n",
       "      <th>454</th>\n",
       "      <td>3967698036</td>\n",
       "      <td>3</td>\n",
       "    </tr>\n",
       "    <tr>\n",
       "      <th>328</th>\n",
       "      <td>2892265953</td>\n",
       "      <td>2</td>\n",
       "    </tr>\n",
       "    <tr>\n",
       "      <th>197</th>\n",
       "      <td>1772171838</td>\n",
       "      <td>2</td>\n",
       "    </tr>\n",
       "    <tr>\n",
       "      <th>247</th>\n",
       "      <td>2232111114</td>\n",
       "      <td>2</td>\n",
       "    </tr>\n",
       "  </tbody>\n",
       "</table>\n",
       "</div>"
      ],
      "text/plain": [
       "      visitorid  transactionid\n",
       "22    237748145              4\n",
       "185  1614305549              3\n",
       "66    611059232              3\n",
       "339  2988190573              3\n",
       "231  2108163459              3\n",
       "443  3908431265              3\n",
       "454  3967698036              3\n",
       "328  2892265953              2\n",
       "197  1772171838              2\n",
       "247  2232111114              2"
      ]
     },
     "execution_count": 35,
     "metadata": {},
     "output_type": "execute_result"
    }
   ],
   "source": [
    "a_orders_group = (\n",
    "    a_orders.drop(['group','revenue','date'], axis=1)\n",
    "    .groupby('visitorid', as_index=False)\n",
    "    .agg({'transactionid': pd.Series.nunique})\n",
    ")\n",
    "#a_orders_group['revenue'].value_counts()\n",
    "a_orders_group.sort_values(by='transactionid', ascending=False).head(10)"
   ]
  },
  {
   "cell_type": "code",
   "execution_count": 36,
   "id": "476b244d",
   "metadata": {
    "ExecuteTime": {
     "end_time": "2022-11-12T15:59:45.223291Z",
     "start_time": "2022-11-12T15:59:45.214314Z"
    }
   },
   "outputs": [],
   "source": [
    "x_values = pd.Series(range(0,len(a_orders_group)))"
   ]
  },
  {
   "cell_type": "code",
   "execution_count": 37,
   "id": "93cbde6d",
   "metadata": {
    "ExecuteTime": {
     "end_time": "2022-11-12T15:59:45.600460Z",
     "start_time": "2022-11-12T15:59:45.230270Z"
    }
   },
   "outputs": [
    {
     "data": {
      "text/plain": [
       "Text(0, 0.5, 'no. of orders')"
      ]
     },
     "execution_count": 37,
     "metadata": {},
     "output_type": "execute_result"
    },
    {
     "data": {
      "image/png": "[encoded data removed]",
      "text/plain": [
       "<Figure size 1080x432 with 1 Axes>"
      ]
     },
     "metadata": {
      "needs_background": "light"
     },
     "output_type": "display_data"
    }
   ],
   "source": [
    "plt.scatter(x_values, a_orders_group['transactionid'])\n",
    "plt.title(\"number of orders per user\")\n",
    "plt.ylabel('no. of orders')"
   ]
  },
  {
   "cell_type": "markdown",
   "id": "a9221e3d",
   "metadata": {},
   "source": [
    "we see the strong majority of users order 1 time, with a few that order 2, and fewer as we go up to 4 orders. in the span of one month that makes sense, as a paycheck comes once a month. i'd imagine if people could, they'd buy food once a month."
   ]
  },
  {
   "cell_type": "markdown",
   "id": "4fed06ae",
   "metadata": {},
   "source": [
    "## Calculate the 95th and 99th percentiles for the number of orders per user. Define the point at which a data point becomes an anomaly"
   ]
  },
  {
   "cell_type": "code",
   "execution_count": 38,
   "id": "fcaf66ba",
   "metadata": {
    "ExecuteTime": {
     "end_time": "2022-11-12T15:59:45.631929Z",
     "start_time": "2022-11-12T15:59:45.605447Z"
    }
   },
   "outputs": [
    {
     "data": {
      "text/plain": [
       "array([1., 3.])"
      ]
     },
     "execution_count": 38,
     "metadata": {},
     "output_type": "execute_result"
    }
   ],
   "source": [
    "np.percentile(a_orders_group['transactionid'], [ 95, 99])"
   ]
  },
  {
   "cell_type": "markdown",
   "id": "a7b92a0e",
   "metadata": {},
   "source": [
    "around 95% of users placed only 1 order and not more than 1% placed more than 3 orders, i'd say 3-4 orders is an anomaly."
   ]
  },
  {
   "cell_type": "markdown",
   "id": "7b8bd4b9",
   "metadata": {},
   "source": [
    "## Plot a scatter chart of order prices"
   ]
  },
  {
   "cell_type": "code",
   "execution_count": 39,
   "id": "d20d4cb4",
   "metadata": {
    "ExecuteTime": {
     "end_time": "2022-11-12T15:59:46.497551Z",
     "start_time": "2022-11-12T15:59:45.635723Z"
    }
   },
   "outputs": [
    {
     "data": {
      "text/plain": [
       "Text(0, 0.5, 'no. of orders')"
      ]
     },
     "execution_count": 39,
     "metadata": {},
     "output_type": "execute_result"
    },
    {
     "data": {
      "image/png": "[encoded data removed]",
      "text/plain": [
       "<Figure size 1080x432 with 1 Axes>"
      ]
     },
     "metadata": {
      "needs_background": "light"
     },
     "output_type": "display_data"
    }
   ],
   "source": [
    "plt.hist(orders['revenue'], bins=100)\n",
    "plt.title(\"order prices scatter chart\")\n",
    "plt.xlabel(\"prices\")\n",
    "plt.ylabel(\"no. of orders\")"
   ]
  },
  {
   "cell_type": "markdown",
   "id": "89c5c67d",
   "metadata": {},
   "source": [
    "we see a right skewed distribution with what i'd clearly call anomalies above the price of 2500."
   ]
  },
  {
   "cell_type": "markdown",
   "id": "04bf7fdf",
   "metadata": {},
   "source": [
    "## Calculate the 95th and 99th percentiles of order prices. Define the point at which a data point becomes an anomaly"
   ]
  },
  {
   "cell_type": "code",
   "execution_count": 40,
   "id": "a520f8ad",
   "metadata": {
    "ExecuteTime": {
     "end_time": "2022-11-12T15:59:46.527463Z",
     "start_time": "2022-11-12T15:59:46.503536Z"
    }
   },
   "outputs": [
    {
     "data": {
      "text/plain": [
       "array([428.78, 895.23])"
      ]
     },
     "execution_count": 40,
     "metadata": {},
     "output_type": "execute_result"
    }
   ],
   "source": [
    "np.percentile(orders['revenue'], [ 95, 99])"
   ]
  },
  {
   "cell_type": "markdown",
   "id": "d2c005f0",
   "metadata": {},
   "source": [
    "so 95% of people placed orders of 428 bucks and below, and only 1% of people placed orders of more than 900 bucks. you could definitely claim orders placed more than 1000$ are anomalies"
   ]
  },
  {
   "cell_type": "markdown",
   "id": "ff6fd9fb",
   "metadata": {},
   "source": [
    "## Find the statistical significance of the difference in conversion between the groups using the raw data"
   ]
  },
  {
   "cell_type": "markdown",
   "id": "bc54a78a",
   "metadata": {},
   "source": [
    "since we're comparing proportions, we'll use z-test to test our hypothesis:\n",
    "\n",
    "- H0 - the conversions are the same\n",
    "- H1 - the conversion are statistically different"
   ]
  },
  {
   "cell_type": "code",
   "execution_count": 41,
   "id": "bf1699ae",
   "metadata": {
    "ExecuteTime": {
     "end_time": "2022-11-12T15:59:46.543141Z",
     "start_time": "2022-11-12T15:59:46.531457Z"
    }
   },
   "outputs": [
    {
     "name": "stdout",
     "output_type": "stream",
     "text": [
      "Trials: 18736\n",
      "Successes: 518\n"
     ]
    }
   ],
   "source": [
    "a_trials=a_orders_grouped['visits'].sum()\n",
    "print(\"Trials:\",a_trials)\n",
    "a_successes=a_orders_grouped['transactions'].sum()\n",
    "print(\"Successes:\",a_successes)"
   ]
  },
  {
   "cell_type": "code",
   "execution_count": 42,
   "id": "8b06dd7c",
   "metadata": {
    "ExecuteTime": {
     "end_time": "2022-11-12T15:59:46.574889Z",
     "start_time": "2022-11-12T15:59:46.551130Z"
    }
   },
   "outputs": [
    {
     "name": "stdout",
     "output_type": "stream",
     "text": [
      "Trials: 18916\n",
      "Successes: 597\n"
     ]
    }
   ],
   "source": [
    "b_trials=b_orders_grouped['visits'].sum()\n",
    "print(\"Trials:\",b_trials)\n",
    "b_successes=b_orders_grouped['transactions'].sum()\n",
    "print(\"Successes:\",b_successes)"
   ]
  },
  {
   "cell_type": "code",
   "execution_count": 43,
   "id": "bf7e0465",
   "metadata": {
    "ExecuteTime": {
     "end_time": "2022-11-12T15:59:46.685234Z",
     "start_time": "2022-11-12T15:59:46.579152Z"
    }
   },
   "outputs": [
    {
     "name": "stdout",
     "output_type": "stream",
     "text": [
      "0.025\n"
     ]
    }
   ],
   "source": [
    "from statsmodels.stats.proportion import proportions_ztest\n",
    "stat, pval = proportions_ztest([a_successes,b_successes], [a_trials,b_trials])\n",
    "print('{0:0.3f}'.format(pval))"
   ]
  },
  {
   "cell_type": "markdown",
   "id": "ac4129a6",
   "metadata": {},
   "source": [
    "p-value is less than 5%, so we can reject the null hypothesis; the difference between the conversion rates is statistically significant."
   ]
  },
  {
   "cell_type": "code",
   "execution_count": 44,
   "id": "0594bbb2",
   "metadata": {
    "ExecuteTime": {
     "end_time": "2022-11-12T15:59:46.701176Z",
     "start_time": "2022-11-12T15:59:46.688624Z"
    }
   },
   "outputs": [
    {
     "name": "stdout",
     "output_type": "stream",
     "text": [
      "relative difference between conversions is 0.142\n"
     ]
    }
   ],
   "source": [
    "print(\"relative difference between conversions is {0:.3f}\".format((b_successes/b_trials)/(a_successes/a_trials) - 1)) "
   ]
  },
  {
   "cell_type": "markdown",
   "id": "56a36618",
   "metadata": {},
   "source": [
    "## Find the statistical significance of the difference in average order size between the groups using the raw data"
   ]
  },
  {
   "cell_type": "markdown",
   "id": "6e86cf15",
   "metadata": {},
   "source": [
    "since we're comparing averages, we'll use mann-whitney test to test our hypothesis:\n",
    "- H0 - the average order sizes are the same\n",
    "- H1 - the average order sizes are statistically different"
   ]
  },
  {
   "cell_type": "code",
   "execution_count": 45,
   "id": "be9ecd7b",
   "metadata": {
    "ExecuteTime": {
     "end_time": "2022-11-12T15:59:47.094957Z",
     "start_time": "2022-11-12T15:59:46.705131Z"
    }
   },
   "outputs": [
    {
     "name": "stdout",
     "output_type": "stream",
     "text": [
      "p-value is 0.973\n",
      "relative difference between avg order size is 0.230\n"
     ]
    }
   ],
   "source": [
    "ordersByUsersA = orders[orders['group']=='A'].groupby('visitorid', as_index=False).agg({'transactionid' : pd.Series.nunique})\n",
    "ordersByUsersA.columns = ['userId', 'orders']\n",
    "\n",
    "ordersByUsersB = orders[orders['group']=='B'].groupby('visitorid', as_index=False).agg({'transactionid' : pd.Series.nunique})\n",
    "ordersByUsersB.columns = ['userId', 'orders']\n",
    "\n",
    "sampleA = pd.concat([ordersByUsersA['orders'],pd.Series(0, index=np.arange(visits[visits['group']=='A']['visits'].sum() - len(ordersByUsersA['orders'])), name='orders')],axis=0)\n",
    "\n",
    "sampleB = pd.concat([ordersByUsersB['orders'],pd.Series(0, index=np.arange(visits[visits['group']=='B']['visits'].sum() - len(ordersByUsersB['orders'])), name='orders')],axis=0)\n",
    "\n",
    "print('p-value is {0:.3f}'.format(stats.mannwhitneyu(orders[orders['group']=='A']['revenue'], orders[orders['group']=='B']['revenue'])[1]))\n",
    "print('relative difference between avg order size is {0:.3f}'.format(orders[orders['group']=='B']['revenue'].mean()/orders[orders['group']=='A']['revenue'].mean()-1))"
   ]
  },
  {
   "cell_type": "markdown",
   "id": "d0d3dec9",
   "metadata": {},
   "source": [
    "p-value is much greater than 5% so the null hypothesis cannot be rejected, in other words; differences between average order size cannot be considered statistically significant. the relative difference is 2.3%"
   ]
  },
  {
   "cell_type": "markdown",
   "id": "ef7bfcbb",
   "metadata": {},
   "source": [
    "## Find the statistical significance of the difference in conversion between the groups using the filtered data"
   ]
  },
  {
   "cell_type": "markdown",
   "id": "f1dec33b",
   "metadata": {},
   "source": [
    "since we're comparing proportions, we'll use z-test to test our hypothesis:\n",
    "\n",
    "- H0 - the conversions are the same\n",
    "- H1 - the conversion are statistically different"
   ]
  },
  {
   "cell_type": "code",
   "execution_count": 46,
   "id": "05ee8086",
   "metadata": {
    "ExecuteTime": {
     "end_time": "2022-11-12T15:59:47.158034Z",
     "start_time": "2022-11-12T15:59:47.098940Z"
    }
   },
   "outputs": [
    {
     "name": "stdout",
     "output_type": "stream",
     "text": [
      "   visitorid  revenue  transactionid\n",
      "0    8300375     30.5              1\n",
      "1   11685486    100.4              1\n",
      "2   54447517      5.0              1\n",
      "3   66685450    125.9              1\n",
      "4   78758296     20.1              1\n",
      "(482, 3)\n",
      "   visitorid  revenue  transactionid\n",
      "0    8300375     30.5              1\n",
      "1   11685486    100.4              1\n",
      "2   54447517      5.0              1\n",
      "3   66685450    125.9              1\n",
      "4   78758296     20.1              1\n",
      "(475, 3)\n"
     ]
    }
   ],
   "source": [
    "a_orders=orders.query(\"group=='A'\")\n",
    "a_orders.shape\n",
    "#before filtering, 518 successes.\n",
    "a_orders=a_orders.query(\"revenue<1000\")\n",
    "a_orders.shape\n",
    "a_orders_grouped = a_orders.groupby('visitorid').agg({'revenue':'sum', 'transactionid':'count'}).reset_index()\n",
    "print(a_orders_grouped.head())\n",
    "print(a_orders_grouped.shape)\n",
    "a_orders_grouped = a_orders_grouped.query(\"transactionid < 3\")\n",
    "print(a_orders_grouped.head())\n",
    "print(a_orders_grouped.shape)\n",
    "#after filtering, 475 successes"
   ]
  },
  {
   "cell_type": "code",
   "execution_count": 47,
   "id": "ae54a154",
   "metadata": {
    "ExecuteTime": {
     "end_time": "2022-11-12T15:59:47.221365Z",
     "start_time": "2022-11-12T15:59:47.163016Z"
    }
   },
   "outputs": [
    {
     "name": "stdout",
     "output_type": "stream",
     "text": [
      "   visitorid  revenue  transactionid\n",
      "0    5114589     10.8              1\n",
      "1    6958315     25.9              1\n",
      "2    8300375    165.7              1\n",
      "3   39475350     65.4              1\n",
      "4   47206413     15.2              1\n",
      "(567, 3)\n",
      "   visitorid  revenue  transactionid\n",
      "0    5114589     10.8              1\n",
      "1    6958315     25.9              1\n",
      "2    8300375    165.7              1\n",
      "3   39475350     65.4              1\n",
      "4   47206413     15.2              1\n",
      "(564, 3)\n"
     ]
    }
   ],
   "source": [
    "b_orders=orders.query(\"group=='B'\")\n",
    "b_orders.shape\n",
    "#before filtering, 597 successes.\n",
    "b_orders=b_orders.query(\"revenue<1000\")\n",
    "b_orders.shape\n",
    "b_orders_grouped = b_orders.groupby('visitorid').agg({'revenue':'sum', 'transactionid':'count'}).reset_index()\n",
    "print(b_orders_grouped.head())\n",
    "print(b_orders_grouped.shape)\n",
    "b_orders_grouped = b_orders_grouped.query(\"transactionid < 3\")\n",
    "print(b_orders_grouped.head())\n",
    "print(b_orders_grouped.shape)\n",
    "#after filtering, 564 successes"
   ]
  },
  {
   "cell_type": "code",
   "execution_count": 48,
   "id": "9d312180",
   "metadata": {
    "ExecuteTime": {
     "end_time": "2022-11-12T15:59:47.252648Z",
     "start_time": "2022-11-12T15:59:47.226499Z"
    }
   },
   "outputs": [
    {
     "name": "stdout",
     "output_type": "stream",
     "text": [
      "Trials: 18693\n",
      "Successes: 490\n"
     ]
    }
   ],
   "source": [
    "initialA, finalA=518, 475\n",
    "a_trials=visits.query(\"group=='A'\")['visits'].sum() - (initialA-finalA)\n",
    "print(\"Trials:\",a_trials)\n",
    "a_successes=a_orders_grouped['transactionid'].sum()\n",
    "print(\"Successes:\",a_successes)"
   ]
  },
  {
   "cell_type": "code",
   "execution_count": 49,
   "id": "b95ff1ca",
   "metadata": {
    "ExecuteTime": {
     "end_time": "2022-11-12T15:59:47.283237Z",
     "start_time": "2022-11-12T15:59:47.256705Z"
    }
   },
   "outputs": [
    {
     "name": "stdout",
     "output_type": "stream",
     "text": [
      "Trials: 18883\n",
      "Successes: 583\n"
     ]
    }
   ],
   "source": [
    "initialB, finalB=597, 564\n",
    "b_trials=visits.query(\"group=='B'\")['visits'].sum() - (initialB-finalB)\n",
    "print(\"Trials:\",b_trials)\n",
    "b_successes=b_orders_grouped['transactionid'].sum()\n",
    "print(\"Successes:\",b_successes)"
   ]
  },
  {
   "cell_type": "code",
   "execution_count": 50,
   "id": "4f9045c9",
   "metadata": {
    "ExecuteTime": {
     "end_time": "2022-11-12T15:59:47.298190Z",
     "start_time": "2022-11-12T15:59:47.288217Z"
    }
   },
   "outputs": [
    {
     "name": "stdout",
     "output_type": "stream",
     "text": [
      "p-value is 0.007\n"
     ]
    }
   ],
   "source": [
    "stat, pval = proportions_ztest([a_successes,b_successes], [a_trials,b_trials])\n",
    "print('p-value is {0:0.3f}'.format(pval))"
   ]
  },
  {
   "cell_type": "markdown",
   "id": "53472cec",
   "metadata": {},
   "source": [
    "we see even with the filtered data that the p-value is smaller than 5% therefore, the difference in conversion between the groups is statistically significant."
   ]
  },
  {
   "cell_type": "code",
   "execution_count": 51,
   "id": "27e5a582",
   "metadata": {
    "ExecuteTime": {
     "end_time": "2022-11-12T15:59:47.328534Z",
     "start_time": "2022-11-12T15:59:47.303180Z"
    }
   },
   "outputs": [
    {
     "name": "stdout",
     "output_type": "stream",
     "text": [
      "relative difference between conversions is 0.178\n"
     ]
    }
   ],
   "source": [
    "print(\"relative difference between conversions is {0:.3f}\".format((b_successes/b_trials)/(a_successes/a_trials) - 1)) "
   ]
  },
  {
   "cell_type": "markdown",
   "id": "083b1d81",
   "metadata": {},
   "source": [
    "now that we've cleaned the data of the anomalies, the p-value for the test is smaller than 5% and we can say the difference between the conversion rates is statistically significant. it's 17.8%!"
   ]
  },
  {
   "cell_type": "markdown",
   "id": "7c3e8f81",
   "metadata": {},
   "source": [
    "## Find the statistical significance of the difference in average order size between the groups using the filtered data"
   ]
  },
  {
   "cell_type": "markdown",
   "id": "aaebccfa",
   "metadata": {},
   "source": [
    "since we're comparing averages, we'll use mann-whitney test to test our hypothesis:\n",
    "- H0 - the average order sizes are the same\n",
    "- H1 - the average order sizes are statistically different"
   ]
  },
  {
   "cell_type": "code",
   "execution_count": 52,
   "id": "7c80aa5b",
   "metadata": {
    "ExecuteTime": {
     "end_time": "2022-11-12T15:59:47.595648Z",
     "start_time": "2022-11-12T15:59:47.332496Z"
    }
   },
   "outputs": [
    {
     "name": "stdout",
     "output_type": "stream",
     "text": [
      "p-value after filtering is 0.568\n",
      "relative difference after filtering is -0.109\n"
     ]
    }
   ],
   "source": [
    "ordersByUsersA = (\n",
    "    orders[orders['group'] == 'A']\n",
    "    .groupby('visitorid', as_index=False)\n",
    "    .agg({'transactionid': pd.Series.nunique})\n",
    ")\n",
    "ordersByUsersA.columns = ['userId', 'orders']\n",
    "\n",
    "ordersByUsersB = (\n",
    "    orders[orders['group'] == 'B']\n",
    "    .groupby('visitorid', as_index=False)\n",
    "    .agg({'transactionid': pd.Series.nunique})\n",
    ")\n",
    "ordersByUsersB.columns = ['userId', 'orders']\n",
    "\n",
    "usersWithManyOrders = pd.concat(\n",
    "    [\n",
    "        ordersByUsersA[ordersByUsersA['orders'] > 2]['userId'],\n",
    "        ordersByUsersB[ordersByUsersB['orders'] > 2]['userId'],\n",
    "    ],\n",
    "    axis=0,\n",
    ")\n",
    "usersWithExpensiveOrders = orders[orders['revenue'] > 2500]['visitorid']\n",
    "abnormalUsers = (\n",
    "    pd.concat([usersWithManyOrders, usersWithExpensiveOrders], axis=0)\n",
    "    .drop_duplicates()\n",
    "    .sort_values()\n",
    ")\n",
    "sampleAFiltered = pd.concat([ordersByUsersA[np.logical_not(ordersByUsersA['userId'].isin(abnormalUsers))]['orders'],pd.Series(0, index=np.arange(visits[visits['group']=='A']['visits'].sum() - len(ordersByUsersA['orders'])),name='orders')],axis=0)\n",
    "\n",
    "sampleBFiltered = pd.concat([ordersByUsersB[np.logical_not(ordersByUsersB['userId'].isin(abnormalUsers))]['orders'],pd.Series(0, index=np.arange(visits[visits['group']=='B']['visits'].sum() - len(ordersByUsersB['orders'])),name='orders')],axis=0)\n",
    "\n",
    "#print(\"p-value after filtering is {0:.5f}\".format(stats.mannwhitneyu(sampleAFiltered, sampleBFiltered)[1]))\n",
    "#print(\"relative difference between conversions after filtering is {0:.3f}\".format(sampleBFiltered.mean()/sampleAFiltered.mean()-1))\n",
    "\n",
    "print('p-value after filtering is {0:.3f}'.format(stats.mannwhitneyu(\n",
    "    orders[np.logical_and(\n",
    "        orders['group']=='A',\n",
    "        np.logical_not(orders['visitorid'].isin(abnormalUsers)))]['revenue'],\n",
    "    orders[np.logical_and(\n",
    "        orders['group']=='B',\n",
    "        np.logical_not(orders['visitorid'].isin(abnormalUsers)))]['revenue'])[1]))\n",
    "\n",
    "print('relative difference after filtering is {0:.3f}'.format(\n",
    "    orders[np.logical_and(orders['group']=='B',np.logical_not(orders['visitorid'].isin(abnormalUsers)))]['revenue'].mean()/\n",
    "    orders[np.logical_and(\n",
    "        orders['group']=='A',\n",
    "        np.logical_not(orders['visitorid'].isin(abnormalUsers)))]['revenue'].mean() - 1))"
   ]
  },
  {
   "cell_type": "markdown",
   "id": "568ef411",
   "metadata": {},
   "source": [
    "p-value is still large, so we can't say the difference is statistically significant. we did see in the average check plot that the behaviours are similar."
   ]
  },
  {
   "cell_type": "markdown",
   "id": "05280949",
   "metadata": {},
   "source": [
    "## Make a decision based on the test results\n",
    "The possible decisions are:\n",
    "1. Stop the test, consider one of the groups the leader.\n",
    "2. Stop the test, conclude that there is no difference between the groups.\n",
    "3. Continue the test\n"
   ]
  },
  {
   "cell_type": "markdown",
   "id": "a15200b1",
   "metadata": {},
   "source": [
    "since all the parameters we've tested have stabilized based one month of data we should call the test a success and stop it."
   ]
  },
  {
   "cell_type": "markdown",
   "id": "1f64a126",
   "metadata": {},
   "source": [
    "# Conclusions\n",
    "\n",
    "we saw that B group is leading by revenue, avg order size,\n",
    "cumulative avg order size, and conversion rates.\n",
    "we also saw that B leading the conversion rates is statistically significant (after filtering the data for anomalies)\n",
    "so we can consider B group the leader."
   ]
  }
 ],
 "metadata": {
  "ExecuteTimeLog": [
   {
    "duration": 471,
    "start_time": "2022-04-28T07:59:21.763Z"
   },
   {
    "duration": 0,
    "start_time": "2022-04-28T07:59:22.237Z"
   },
   {
    "duration": 0,
    "start_time": "2022-04-28T07:59:22.238Z"
   },
   {
    "duration": 0,
    "start_time": "2022-04-28T07:59:22.239Z"
   },
   {
    "duration": 0,
    "start_time": "2022-04-28T07:59:22.241Z"
   },
   {
    "duration": 0,
    "start_time": "2022-04-28T07:59:22.241Z"
   },
   {
    "duration": 0,
    "start_time": "2022-04-28T07:59:22.243Z"
   },
   {
    "duration": 0,
    "start_time": "2022-04-28T07:59:22.244Z"
   },
   {
    "duration": 0,
    "start_time": "2022-04-28T07:59:22.247Z"
   },
   {
    "duration": 0,
    "start_time": "2022-04-28T07:59:22.248Z"
   },
   {
    "duration": 0,
    "start_time": "2022-04-28T07:59:22.249Z"
   },
   {
    "duration": 0,
    "start_time": "2022-04-28T07:59:22.250Z"
   },
   {
    "duration": 0,
    "start_time": "2022-04-28T07:59:22.251Z"
   },
   {
    "duration": 0,
    "start_time": "2022-04-28T07:59:22.252Z"
   },
   {
    "duration": 0,
    "start_time": "2022-04-28T07:59:22.252Z"
   },
   {
    "duration": 0,
    "start_time": "2022-04-28T07:59:22.253Z"
   },
   {
    "duration": 0,
    "start_time": "2022-04-28T07:59:22.254Z"
   },
   {
    "duration": 0,
    "start_time": "2022-04-28T07:59:22.255Z"
   },
   {
    "duration": 0,
    "start_time": "2022-04-28T07:59:22.256Z"
   },
   {
    "duration": 0,
    "start_time": "2022-04-28T07:59:22.257Z"
   },
   {
    "duration": 0,
    "start_time": "2022-04-28T07:59:22.258Z"
   },
   {
    "duration": 0,
    "start_time": "2022-04-28T07:59:22.259Z"
   },
   {
    "duration": 0,
    "start_time": "2022-04-28T07:59:22.260Z"
   },
   {
    "duration": 0,
    "start_time": "2022-04-28T07:59:22.262Z"
   },
   {
    "duration": 0,
    "start_time": "2022-04-28T07:59:22.263Z"
   },
   {
    "duration": 0,
    "start_time": "2022-04-28T07:59:22.264Z"
   },
   {
    "duration": 0,
    "start_time": "2022-04-28T07:59:22.265Z"
   },
   {
    "duration": 0,
    "start_time": "2022-04-28T07:59:22.266Z"
   },
   {
    "duration": 0,
    "start_time": "2022-04-28T07:59:22.267Z"
   },
   {
    "duration": 0,
    "start_time": "2022-04-28T07:59:22.268Z"
   },
   {
    "duration": 0,
    "start_time": "2022-04-28T07:59:22.269Z"
   },
   {
    "duration": 0,
    "start_time": "2022-04-28T07:59:22.272Z"
   },
   {
    "duration": 0,
    "start_time": "2022-04-28T07:59:22.273Z"
   },
   {
    "duration": 0,
    "start_time": "2022-04-28T07:59:22.274Z"
   },
   {
    "duration": 0,
    "start_time": "2022-04-28T07:59:22.275Z"
   },
   {
    "duration": 0,
    "start_time": "2022-04-28T07:59:22.276Z"
   },
   {
    "duration": 0,
    "start_time": "2022-04-28T07:59:22.277Z"
   },
   {
    "duration": 0,
    "start_time": "2022-04-28T07:59:22.278Z"
   },
   {
    "duration": 0,
    "start_time": "2022-04-28T07:59:22.325Z"
   },
   {
    "duration": 0,
    "start_time": "2022-04-28T07:59:22.326Z"
   },
   {
    "duration": 0,
    "start_time": "2022-04-28T07:59:22.327Z"
   },
   {
    "duration": 0,
    "start_time": "2022-04-28T07:59:22.328Z"
   },
   {
    "duration": 31415,
    "start_time": "2022-04-28T08:01:39.820Z"
   },
   {
    "duration": 1162,
    "start_time": "2022-04-28T08:03:07.926Z"
   },
   {
    "duration": 127,
    "start_time": "2022-04-28T08:03:09.090Z"
   },
   {
    "duration": 30,
    "start_time": "2022-04-28T08:03:09.219Z"
   },
   {
    "duration": 18,
    "start_time": "2022-04-28T08:03:09.251Z"
   },
   {
    "duration": 15,
    "start_time": "2022-04-28T08:03:09.270Z"
   },
   {
    "duration": 5,
    "start_time": "2022-04-28T08:03:09.287Z"
   },
   {
    "duration": 43,
    "start_time": "2022-04-28T08:03:09.294Z"
   },
   {
    "duration": 99,
    "start_time": "2022-04-28T08:03:09.338Z"
   },
   {
    "duration": 0,
    "start_time": "2022-04-28T08:03:09.439Z"
   },
   {
    "duration": 0,
    "start_time": "2022-04-28T08:03:09.440Z"
   },
   {
    "duration": 0,
    "start_time": "2022-04-28T08:03:09.441Z"
   },
   {
    "duration": 0,
    "start_time": "2022-04-28T08:03:09.442Z"
   },
   {
    "duration": 0,
    "start_time": "2022-04-28T08:03:09.443Z"
   },
   {
    "duration": 0,
    "start_time": "2022-04-28T08:03:09.444Z"
   },
   {
    "duration": 0,
    "start_time": "2022-04-28T08:03:09.445Z"
   },
   {
    "duration": 0,
    "start_time": "2022-04-28T08:03:09.445Z"
   },
   {
    "duration": 0,
    "start_time": "2022-04-28T08:03:09.446Z"
   },
   {
    "duration": 0,
    "start_time": "2022-04-28T08:03:09.447Z"
   },
   {
    "duration": 0,
    "start_time": "2022-04-28T08:03:09.448Z"
   },
   {
    "duration": 0,
    "start_time": "2022-04-28T08:03:09.449Z"
   },
   {
    "duration": 0,
    "start_time": "2022-04-28T08:03:09.450Z"
   },
   {
    "duration": 0,
    "start_time": "2022-04-28T08:03:09.450Z"
   },
   {
    "duration": 0,
    "start_time": "2022-04-28T08:03:09.451Z"
   },
   {
    "duration": 0,
    "start_time": "2022-04-28T08:03:09.452Z"
   },
   {
    "duration": 0,
    "start_time": "2022-04-28T08:03:09.453Z"
   },
   {
    "duration": 0,
    "start_time": "2022-04-28T08:03:09.454Z"
   },
   {
    "duration": 0,
    "start_time": "2022-04-28T08:03:09.455Z"
   },
   {
    "duration": 0,
    "start_time": "2022-04-28T08:03:09.457Z"
   },
   {
    "duration": 0,
    "start_time": "2022-04-28T08:03:09.458Z"
   },
   {
    "duration": 0,
    "start_time": "2022-04-28T08:03:09.459Z"
   },
   {
    "duration": 0,
    "start_time": "2022-04-28T08:03:09.460Z"
   },
   {
    "duration": 0,
    "start_time": "2022-04-28T08:03:09.461Z"
   },
   {
    "duration": 0,
    "start_time": "2022-04-28T08:03:09.462Z"
   },
   {
    "duration": 0,
    "start_time": "2022-04-28T08:03:09.463Z"
   },
   {
    "duration": 0,
    "start_time": "2022-04-28T08:03:09.463Z"
   },
   {
    "duration": 0,
    "start_time": "2022-04-28T08:03:09.464Z"
   },
   {
    "duration": 0,
    "start_time": "2022-04-28T08:03:09.465Z"
   },
   {
    "duration": 0,
    "start_time": "2022-04-28T08:03:09.466Z"
   },
   {
    "duration": 0,
    "start_time": "2022-04-28T08:03:09.467Z"
   },
   {
    "duration": 0,
    "start_time": "2022-04-28T08:03:09.468Z"
   },
   {
    "duration": 0,
    "start_time": "2022-04-28T08:03:09.469Z"
   },
   {
    "duration": 0,
    "start_time": "2022-04-28T08:03:09.470Z"
   },
   {
    "duration": 56,
    "start_time": "2022-04-28T08:04:33.553Z"
   },
   {
    "duration": 10,
    "start_time": "2022-04-28T08:04:35.406Z"
   },
   {
    "duration": 11,
    "start_time": "2022-04-28T08:04:36.428Z"
   },
   {
    "duration": 11,
    "start_time": "2022-04-28T08:04:36.927Z"
   },
   {
    "duration": 9,
    "start_time": "2022-04-28T08:04:38.066Z"
   },
   {
    "duration": 15,
    "start_time": "2022-04-28T08:04:41.754Z"
   },
   {
    "duration": 12,
    "start_time": "2022-04-28T08:04:42.174Z"
   },
   {
    "duration": 13,
    "start_time": "2022-04-28T08:04:42.596Z"
   },
   {
    "duration": 10,
    "start_time": "2022-04-28T08:04:42.799Z"
   },
   {
    "duration": 17,
    "start_time": "2022-04-28T08:04:42.977Z"
   },
   {
    "duration": 274,
    "start_time": "2022-04-28T08:04:43.171Z"
   },
   {
    "duration": 10,
    "start_time": "2022-04-28T08:04:44.230Z"
   },
   {
    "duration": 10,
    "start_time": "2022-04-28T08:04:44.405Z"
   },
   {
    "duration": 12,
    "start_time": "2022-04-28T08:04:44.583Z"
   },
   {
    "duration": 11,
    "start_time": "2022-04-28T08:04:44.776Z"
   },
   {
    "duration": 190,
    "start_time": "2022-04-28T08:04:44.957Z"
   },
   {
    "duration": 185,
    "start_time": "2022-04-28T08:04:45.535Z"
   },
   {
    "duration": 16,
    "start_time": "2022-04-28T08:04:46.316Z"
   },
   {
    "duration": 13,
    "start_time": "2022-04-28T08:04:46.501Z"
   },
   {
    "duration": 19,
    "start_time": "2022-04-28T08:04:46.696Z"
   },
   {
    "duration": 13,
    "start_time": "2022-04-28T08:04:46.878Z"
   },
   {
    "duration": 202,
    "start_time": "2022-04-28T08:04:47.072Z"
   },
   {
    "duration": 78,
    "start_time": "2022-04-28T08:04:47.841Z"
   },
   {
    "duration": 3,
    "start_time": "2022-04-28T08:04:48.031Z"
   },
   {
    "duration": 149,
    "start_time": "2022-04-28T08:04:48.231Z"
   },
   {
    "duration": 5,
    "start_time": "2022-04-28T08:04:48.803Z"
   },
   {
    "duration": 254,
    "start_time": "2022-04-28T08:04:49.373Z"
   },
   {
    "duration": 5,
    "start_time": "2022-04-28T08:04:49.958Z"
   },
   {
    "duration": 6,
    "start_time": "2022-04-28T08:04:50.541Z"
   },
   {
    "duration": 5,
    "start_time": "2022-04-28T08:04:50.719Z"
   },
   {
    "duration": 4,
    "start_time": "2022-04-28T08:04:50.914Z"
   },
   {
    "duration": 168,
    "start_time": "2022-04-28T08:04:51.501Z"
   },
   {
    "duration": 164,
    "start_time": "2022-04-28T08:04:52.449Z"
   },
   {
    "duration": 14,
    "start_time": "2022-04-28T08:04:53.693Z"
   },
   {
    "duration": 4183,
    "start_time": "2022-04-28T09:40:37.313Z"
   },
   {
    "duration": 3023,
    "start_time": "2022-04-28T09:42:14.909Z"
   },
   {
    "duration": 1429,
    "start_time": "2022-04-28T09:42:17.934Z"
   },
   {
    "duration": 110,
    "start_time": "2022-04-28T09:42:19.365Z"
   },
   {
    "duration": 37,
    "start_time": "2022-04-28T09:42:19.477Z"
   },
   {
    "duration": 19,
    "start_time": "2022-04-28T09:42:19.516Z"
   },
   {
    "duration": 16,
    "start_time": "2022-04-28T09:42:19.537Z"
   },
   {
    "duration": 6,
    "start_time": "2022-04-28T09:42:19.555Z"
   },
   {
    "duration": 39,
    "start_time": "2022-04-28T09:42:19.562Z"
   },
   {
    "duration": 101,
    "start_time": "2022-04-28T09:42:55.547Z"
   },
   {
    "duration": 2041,
    "start_time": "2022-04-28T09:43:24.663Z"
   },
   {
    "duration": 1142,
    "start_time": "2022-04-28T09:43:26.707Z"
   },
   {
    "duration": 111,
    "start_time": "2022-04-28T09:43:27.851Z"
   },
   {
    "duration": 31,
    "start_time": "2022-04-28T09:43:27.964Z"
   },
   {
    "duration": 18,
    "start_time": "2022-04-28T09:43:27.997Z"
   },
   {
    "duration": 22,
    "start_time": "2022-04-28T09:43:28.017Z"
   },
   {
    "duration": 15,
    "start_time": "2022-04-28T09:43:28.046Z"
   },
   {
    "duration": 31,
    "start_time": "2022-04-28T09:43:28.063Z"
   },
   {
    "duration": 156,
    "start_time": "2022-04-28T09:44:14.513Z"
   },
   {
    "duration": 2520,
    "start_time": "2022-04-28T09:44:31.102Z"
   },
   {
    "duration": 3,
    "start_time": "2022-04-28T09:47:28.678Z"
   },
   {
    "duration": 2089,
    "start_time": "2022-04-28T12:59:20.555Z"
   },
   {
    "duration": 3,
    "start_time": "2022-04-28T12:59:22.646Z"
   },
   {
    "duration": 119,
    "start_time": "2022-04-28T12:59:22.651Z"
   },
   {
    "duration": 28,
    "start_time": "2022-04-28T12:59:22.772Z"
   },
   {
    "duration": 17,
    "start_time": "2022-04-28T12:59:22.802Z"
   },
   {
    "duration": 19,
    "start_time": "2022-04-28T12:59:22.820Z"
   },
   {
    "duration": 7,
    "start_time": "2022-04-28T12:59:22.841Z"
   },
   {
    "duration": 15,
    "start_time": "2022-04-28T12:59:22.849Z"
   },
   {
    "duration": 2,
    "start_time": "2022-04-28T12:59:22.865Z"
   },
   {
    "duration": 75,
    "start_time": "2022-04-28T12:59:22.870Z"
   },
   {
    "duration": 8,
    "start_time": "2022-04-28T12:59:22.947Z"
   },
   {
    "duration": 13,
    "start_time": "2022-04-28T12:59:22.957Z"
   },
   {
    "duration": 9,
    "start_time": "2022-04-28T12:59:22.972Z"
   },
   {
    "duration": 9,
    "start_time": "2022-04-28T12:59:22.983Z"
   },
   {
    "duration": 37,
    "start_time": "2022-04-28T12:59:22.994Z"
   },
   {
    "duration": 13,
    "start_time": "2022-04-28T12:59:23.033Z"
   },
   {
    "duration": 24,
    "start_time": "2022-04-28T12:59:23.048Z"
   },
   {
    "duration": 10,
    "start_time": "2022-04-28T12:59:23.074Z"
   },
   {
    "duration": 14,
    "start_time": "2022-04-28T12:59:23.086Z"
   },
   {
    "duration": 276,
    "start_time": "2022-04-28T12:59:23.102Z"
   },
   {
    "duration": 10,
    "start_time": "2022-04-28T12:59:23.380Z"
   },
   {
    "duration": 13,
    "start_time": "2022-04-28T12:59:23.391Z"
   },
   {
    "duration": 20,
    "start_time": "2022-04-28T12:59:23.406Z"
   },
   {
    "duration": 12,
    "start_time": "2022-04-28T12:59:23.428Z"
   },
   {
    "duration": 194,
    "start_time": "2022-04-28T12:59:23.441Z"
   },
   {
    "duration": 201,
    "start_time": "2022-04-28T12:59:23.637Z"
   },
   {
    "duration": 15,
    "start_time": "2022-04-28T12:59:23.839Z"
   },
   {
    "duration": 18,
    "start_time": "2022-04-28T12:59:23.857Z"
   },
   {
    "duration": 16,
    "start_time": "2022-04-28T12:59:23.877Z"
   },
   {
    "duration": 15,
    "start_time": "2022-04-28T12:59:41.165Z"
   },
   {
    "duration": 15,
    "start_time": "2022-04-28T13:01:43.423Z"
   },
   {
    "duration": 15,
    "start_time": "2022-04-28T13:01:59.738Z"
   },
   {
    "duration": 228,
    "start_time": "2022-04-28T13:02:21.489Z"
   },
   {
    "duration": 212,
    "start_time": "2022-04-28T13:02:47.318Z"
   },
   {
    "duration": 200,
    "start_time": "2022-04-28T13:04:27.953Z"
   },
   {
    "duration": 16,
    "start_time": "2022-04-28T13:04:54.838Z"
   },
   {
    "duration": 20,
    "start_time": "2022-04-28T13:05:01.878Z"
   },
   {
    "duration": 2493,
    "start_time": "2022-04-28T13:05:04.048Z"
   },
   {
    "duration": 2165,
    "start_time": "2022-04-28T13:06:03.640Z"
   },
   {
    "duration": 1086,
    "start_time": "2022-04-28T13:06:05.808Z"
   },
   {
    "duration": 164,
    "start_time": "2022-04-28T13:06:06.896Z"
   },
   {
    "duration": 31,
    "start_time": "2022-04-28T13:06:07.062Z"
   },
   {
    "duration": 16,
    "start_time": "2022-04-28T13:06:07.094Z"
   },
   {
    "duration": 18,
    "start_time": "2022-04-28T13:06:07.112Z"
   },
   {
    "duration": 7,
    "start_time": "2022-04-28T13:06:07.131Z"
   },
   {
    "duration": 20,
    "start_time": "2022-04-28T13:06:07.140Z"
   },
   {
    "duration": 2,
    "start_time": "2022-04-28T13:06:07.161Z"
   },
   {
    "duration": 78,
    "start_time": "2022-04-28T13:06:07.166Z"
   },
   {
    "duration": 10,
    "start_time": "2022-04-28T13:06:07.246Z"
   },
   {
    "duration": 11,
    "start_time": "2022-04-28T13:06:07.257Z"
   },
   {
    "duration": 10,
    "start_time": "2022-04-28T13:06:07.270Z"
   },
   {
    "duration": 8,
    "start_time": "2022-04-28T13:06:07.281Z"
   },
   {
    "duration": 34,
    "start_time": "2022-04-28T13:06:07.291Z"
   },
   {
    "duration": 13,
    "start_time": "2022-04-28T13:06:07.327Z"
   },
   {
    "duration": 19,
    "start_time": "2022-04-28T13:06:07.342Z"
   },
   {
    "duration": 12,
    "start_time": "2022-04-28T13:06:07.363Z"
   },
   {
    "duration": 18,
    "start_time": "2022-04-28T13:06:07.377Z"
   },
   {
    "duration": 303,
    "start_time": "2022-04-28T13:06:07.396Z"
   },
   {
    "duration": 10,
    "start_time": "2022-04-28T13:06:07.701Z"
   },
   {
    "duration": 21,
    "start_time": "2022-04-28T13:06:07.713Z"
   },
   {
    "duration": 21,
    "start_time": "2022-04-28T13:06:07.736Z"
   },
   {
    "duration": 10,
    "start_time": "2022-04-28T13:06:07.759Z"
   },
   {
    "duration": 227,
    "start_time": "2022-04-28T13:06:07.771Z"
   },
   {
    "duration": 217,
    "start_time": "2022-04-28T13:06:08.000Z"
   },
   {
    "duration": 15,
    "start_time": "2022-04-28T13:06:31.003Z"
   },
   {
    "duration": 16,
    "start_time": "2022-04-28T13:06:48.107Z"
   },
   {
    "duration": 15,
    "start_time": "2022-04-28T13:06:55.937Z"
   },
   {
    "duration": 17,
    "start_time": "2022-04-28T13:07:02.057Z"
   },
   {
    "duration": 249,
    "start_time": "2022-04-28T13:07:08.307Z"
   },
   {
    "duration": 199,
    "start_time": "2022-04-28T13:07:56.874Z"
   },
   {
    "duration": 161,
    "start_time": "2022-04-28T13:08:28.691Z"
   },
   {
    "duration": 135,
    "start_time": "2022-04-28T13:09:19.832Z"
   },
   {
    "duration": 185,
    "start_time": "2022-04-28T13:09:30.028Z"
   },
   {
    "duration": 180,
    "start_time": "2022-04-28T13:10:15.859Z"
   },
   {
    "duration": 239,
    "start_time": "2022-04-28T13:12:47.131Z"
   },
   {
    "duration": 76,
    "start_time": "2022-04-28T13:22:47.964Z"
   },
   {
    "duration": 3,
    "start_time": "2022-04-28T13:22:51.347Z"
   },
   {
    "duration": 148,
    "start_time": "2022-04-28T13:22:53.295Z"
   },
   {
    "duration": 5,
    "start_time": "2022-04-28T13:36:27.466Z"
   },
   {
    "duration": 266,
    "start_time": "2022-04-28T13:36:29.537Z"
   },
   {
    "duration": 6,
    "start_time": "2022-04-28T13:36:44.166Z"
   },
   {
    "duration": 6,
    "start_time": "2022-04-28T13:36:52.075Z"
   },
   {
    "duration": 4,
    "start_time": "2022-04-28T13:43:07.696Z"
   },
   {
    "duration": 5,
    "start_time": "2022-04-28T13:44:27.607Z"
   },
   {
    "duration": 39,
    "start_time": "2022-04-28T13:45:03.668Z"
   },
   {
    "duration": 3,
    "start_time": "2022-04-28T13:50:31.816Z"
   },
   {
    "duration": 3,
    "start_time": "2022-04-28T13:50:56.943Z"
   },
   {
    "duration": 3,
    "start_time": "2022-04-28T13:51:25.953Z"
   },
   {
    "duration": 3,
    "start_time": "2022-04-28T13:53:24.028Z"
   },
   {
    "duration": 3,
    "start_time": "2022-04-28T13:53:32.921Z"
   },
   {
    "duration": 3,
    "start_time": "2022-04-28T13:53:36.761Z"
   },
   {
    "duration": 136,
    "start_time": "2022-04-28T14:13:01.965Z"
   },
   {
    "duration": 144,
    "start_time": "2022-04-28T14:16:28.170Z"
   },
   {
    "duration": 99767,
    "start_time": "2022-04-29T17:11:33.062Z"
   },
   {
    "duration": 489,
    "start_time": "2022-04-29T17:13:12.832Z"
   },
   {
    "duration": 0,
    "start_time": "2022-04-29T17:13:13.324Z"
   },
   {
    "duration": 0,
    "start_time": "2022-04-29T17:13:13.325Z"
   },
   {
    "duration": 0,
    "start_time": "2022-04-29T17:13:13.333Z"
   },
   {
    "duration": 0,
    "start_time": "2022-04-29T17:13:13.334Z"
   },
   {
    "duration": 0,
    "start_time": "2022-04-29T17:13:13.336Z"
   },
   {
    "duration": 0,
    "start_time": "2022-04-29T17:13:13.337Z"
   },
   {
    "duration": 0,
    "start_time": "2022-04-29T17:13:13.338Z"
   },
   {
    "duration": 0,
    "start_time": "2022-04-29T17:13:13.339Z"
   },
   {
    "duration": 0,
    "start_time": "2022-04-29T17:13:13.340Z"
   },
   {
    "duration": 0,
    "start_time": "2022-04-29T17:13:13.341Z"
   },
   {
    "duration": 0,
    "start_time": "2022-04-29T17:13:13.342Z"
   },
   {
    "duration": 0,
    "start_time": "2022-04-29T17:13:13.343Z"
   },
   {
    "duration": 0,
    "start_time": "2022-04-29T17:13:13.345Z"
   },
   {
    "duration": 0,
    "start_time": "2022-04-29T17:13:13.346Z"
   },
   {
    "duration": 0,
    "start_time": "2022-04-29T17:13:13.347Z"
   },
   {
    "duration": 0,
    "start_time": "2022-04-29T17:13:13.348Z"
   },
   {
    "duration": 0,
    "start_time": "2022-04-29T17:13:13.349Z"
   },
   {
    "duration": 0,
    "start_time": "2022-04-29T17:13:13.350Z"
   },
   {
    "duration": 0,
    "start_time": "2022-04-29T17:13:13.351Z"
   },
   {
    "duration": 0,
    "start_time": "2022-04-29T17:13:13.353Z"
   },
   {
    "duration": 0,
    "start_time": "2022-04-29T17:13:13.354Z"
   },
   {
    "duration": 0,
    "start_time": "2022-04-29T17:13:13.355Z"
   },
   {
    "duration": 0,
    "start_time": "2022-04-29T17:13:13.356Z"
   },
   {
    "duration": 0,
    "start_time": "2022-04-29T17:13:13.357Z"
   },
   {
    "duration": 0,
    "start_time": "2022-04-29T17:13:13.358Z"
   },
   {
    "duration": 0,
    "start_time": "2022-04-29T17:13:13.359Z"
   },
   {
    "duration": 0,
    "start_time": "2022-04-29T17:13:13.361Z"
   },
   {
    "duration": 0,
    "start_time": "2022-04-29T17:13:13.362Z"
   },
   {
    "duration": 0,
    "start_time": "2022-04-29T17:13:13.363Z"
   },
   {
    "duration": 0,
    "start_time": "2022-04-29T17:13:13.363Z"
   },
   {
    "duration": 0,
    "start_time": "2022-04-29T17:13:13.364Z"
   },
   {
    "duration": 0,
    "start_time": "2022-04-29T17:13:13.365Z"
   },
   {
    "duration": 0,
    "start_time": "2022-04-29T17:13:13.367Z"
   },
   {
    "duration": 0,
    "start_time": "2022-04-29T17:13:13.368Z"
   },
   {
    "duration": 0,
    "start_time": "2022-04-29T17:13:13.369Z"
   },
   {
    "duration": 0,
    "start_time": "2022-04-29T17:13:13.370Z"
   },
   {
    "duration": 0,
    "start_time": "2022-04-29T17:13:13.433Z"
   },
   {
    "duration": 0,
    "start_time": "2022-04-29T17:13:13.434Z"
   },
   {
    "duration": 0,
    "start_time": "2022-04-29T17:13:13.435Z"
   },
   {
    "duration": 0,
    "start_time": "2022-04-29T17:13:13.436Z"
   },
   {
    "duration": 0,
    "start_time": "2022-04-29T17:13:13.438Z"
   },
   {
    "duration": 0,
    "start_time": "2022-04-29T17:13:13.439Z"
   },
   {
    "duration": 0,
    "start_time": "2022-04-29T17:13:13.440Z"
   },
   {
    "duration": 0,
    "start_time": "2022-04-29T17:13:13.441Z"
   },
   {
    "duration": 0,
    "start_time": "2022-04-29T17:13:13.442Z"
   },
   {
    "duration": 0,
    "start_time": "2022-04-29T17:13:13.443Z"
   },
   {
    "duration": 0,
    "start_time": "2022-04-29T17:13:13.444Z"
   },
   {
    "duration": 0,
    "start_time": "2022-04-29T17:13:13.445Z"
   },
   {
    "duration": 0,
    "start_time": "2022-04-29T17:13:13.446Z"
   },
   {
    "duration": 99307,
    "start_time": "2022-04-29T17:13:45.972Z"
   },
   {
    "duration": 437,
    "start_time": "2022-04-29T17:15:25.282Z"
   },
   {
    "duration": 0,
    "start_time": "2022-04-29T17:15:25.722Z"
   },
   {
    "duration": 0,
    "start_time": "2022-04-29T17:15:25.724Z"
   },
   {
    "duration": 0,
    "start_time": "2022-04-29T17:15:25.725Z"
   },
   {
    "duration": 0,
    "start_time": "2022-04-29T17:15:25.726Z"
   },
   {
    "duration": 0,
    "start_time": "2022-04-29T17:15:25.727Z"
   },
   {
    "duration": 0,
    "start_time": "2022-04-29T17:15:25.728Z"
   },
   {
    "duration": 0,
    "start_time": "2022-04-29T17:15:25.733Z"
   },
   {
    "duration": 0,
    "start_time": "2022-04-29T17:15:25.735Z"
   },
   {
    "duration": 0,
    "start_time": "2022-04-29T17:15:25.736Z"
   },
   {
    "duration": 0,
    "start_time": "2022-04-29T17:15:25.737Z"
   },
   {
    "duration": 0,
    "start_time": "2022-04-29T17:15:25.738Z"
   },
   {
    "duration": 0,
    "start_time": "2022-04-29T17:15:25.739Z"
   },
   {
    "duration": 0,
    "start_time": "2022-04-29T17:15:25.741Z"
   },
   {
    "duration": 0,
    "start_time": "2022-04-29T17:15:25.741Z"
   },
   {
    "duration": 0,
    "start_time": "2022-04-29T17:15:25.742Z"
   },
   {
    "duration": 0,
    "start_time": "2022-04-29T17:15:25.743Z"
   },
   {
    "duration": 0,
    "start_time": "2022-04-29T17:15:25.745Z"
   },
   {
    "duration": 0,
    "start_time": "2022-04-29T17:15:25.746Z"
   },
   {
    "duration": 0,
    "start_time": "2022-04-29T17:15:25.747Z"
   },
   {
    "duration": 0,
    "start_time": "2022-04-29T17:15:25.748Z"
   },
   {
    "duration": 0,
    "start_time": "2022-04-29T17:15:25.749Z"
   },
   {
    "duration": 0,
    "start_time": "2022-04-29T17:15:25.750Z"
   },
   {
    "duration": 0,
    "start_time": "2022-04-29T17:15:25.751Z"
   },
   {
    "duration": 0,
    "start_time": "2022-04-29T17:15:25.752Z"
   },
   {
    "duration": 0,
    "start_time": "2022-04-29T17:15:25.753Z"
   },
   {
    "duration": 0,
    "start_time": "2022-04-29T17:15:25.754Z"
   },
   {
    "duration": 0,
    "start_time": "2022-04-29T17:15:25.755Z"
   },
   {
    "duration": 0,
    "start_time": "2022-04-29T17:15:25.756Z"
   },
   {
    "duration": 0,
    "start_time": "2022-04-29T17:15:25.757Z"
   },
   {
    "duration": 0,
    "start_time": "2022-04-29T17:15:25.759Z"
   },
   {
    "duration": 0,
    "start_time": "2022-04-29T17:15:25.760Z"
   },
   {
    "duration": 0,
    "start_time": "2022-04-29T17:15:25.761Z"
   },
   {
    "duration": 0,
    "start_time": "2022-04-29T17:15:25.762Z"
   },
   {
    "duration": 0,
    "start_time": "2022-04-29T17:15:25.763Z"
   },
   {
    "duration": 0,
    "start_time": "2022-04-29T17:15:25.764Z"
   },
   {
    "duration": 0,
    "start_time": "2022-04-29T17:15:25.765Z"
   },
   {
    "duration": 0,
    "start_time": "2022-04-29T17:15:25.766Z"
   },
   {
    "duration": 0,
    "start_time": "2022-04-29T17:15:25.767Z"
   },
   {
    "duration": 0,
    "start_time": "2022-04-29T17:15:25.768Z"
   },
   {
    "duration": 0,
    "start_time": "2022-04-29T17:15:25.769Z"
   },
   {
    "duration": 0,
    "start_time": "2022-04-29T17:15:25.770Z"
   },
   {
    "duration": 0,
    "start_time": "2022-04-29T17:15:25.834Z"
   },
   {
    "duration": 0,
    "start_time": "2022-04-29T17:15:25.835Z"
   },
   {
    "duration": 0,
    "start_time": "2022-04-29T17:15:25.836Z"
   },
   {
    "duration": 0,
    "start_time": "2022-04-29T17:15:25.838Z"
   },
   {
    "duration": 0,
    "start_time": "2022-04-29T17:15:25.838Z"
   },
   {
    "duration": 1,
    "start_time": "2022-04-29T17:15:25.839Z"
   },
   {
    "duration": 0,
    "start_time": "2022-04-29T17:15:25.841Z"
   },
   {
    "duration": 0,
    "start_time": "2022-04-29T17:15:25.842Z"
   },
   {
    "duration": 99505,
    "start_time": "2022-04-29T17:15:39.953Z"
   },
   {
    "duration": 504,
    "start_time": "2022-04-29T17:17:19.460Z"
   },
   {
    "duration": 0,
    "start_time": "2022-04-29T17:17:19.967Z"
   },
   {
    "duration": 0,
    "start_time": "2022-04-29T17:17:19.969Z"
   },
   {
    "duration": 0,
    "start_time": "2022-04-29T17:17:19.970Z"
   },
   {
    "duration": 0,
    "start_time": "2022-04-29T17:17:19.971Z"
   },
   {
    "duration": 0,
    "start_time": "2022-04-29T17:17:19.972Z"
   },
   {
    "duration": 0,
    "start_time": "2022-04-29T17:17:19.973Z"
   },
   {
    "duration": 0,
    "start_time": "2022-04-29T17:17:19.974Z"
   },
   {
    "duration": 0,
    "start_time": "2022-04-29T17:17:19.975Z"
   },
   {
    "duration": 0,
    "start_time": "2022-04-29T17:17:19.976Z"
   },
   {
    "duration": 0,
    "start_time": "2022-04-29T17:17:19.977Z"
   },
   {
    "duration": 0,
    "start_time": "2022-04-29T17:17:19.978Z"
   },
   {
    "duration": 0,
    "start_time": "2022-04-29T17:17:19.979Z"
   },
   {
    "duration": 0,
    "start_time": "2022-04-29T17:17:19.980Z"
   },
   {
    "duration": 0,
    "start_time": "2022-04-29T17:17:19.981Z"
   },
   {
    "duration": 0,
    "start_time": "2022-04-29T17:17:19.982Z"
   },
   {
    "duration": 0,
    "start_time": "2022-04-29T17:17:19.984Z"
   },
   {
    "duration": 0,
    "start_time": "2022-04-29T17:17:19.985Z"
   },
   {
    "duration": 0,
    "start_time": "2022-04-29T17:17:19.986Z"
   },
   {
    "duration": 0,
    "start_time": "2022-04-29T17:17:19.987Z"
   },
   {
    "duration": 0,
    "start_time": "2022-04-29T17:17:19.988Z"
   },
   {
    "duration": 0,
    "start_time": "2022-04-29T17:17:19.989Z"
   },
   {
    "duration": 0,
    "start_time": "2022-04-29T17:17:19.990Z"
   },
   {
    "duration": 0,
    "start_time": "2022-04-29T17:17:19.991Z"
   },
   {
    "duration": 0,
    "start_time": "2022-04-29T17:17:20.033Z"
   },
   {
    "duration": 0,
    "start_time": "2022-04-29T17:17:20.034Z"
   },
   {
    "duration": 0,
    "start_time": "2022-04-29T17:17:20.036Z"
   },
   {
    "duration": 0,
    "start_time": "2022-04-29T17:17:20.037Z"
   },
   {
    "duration": 0,
    "start_time": "2022-04-29T17:17:20.038Z"
   },
   {
    "duration": 0,
    "start_time": "2022-04-29T17:17:20.039Z"
   },
   {
    "duration": 0,
    "start_time": "2022-04-29T17:17:20.040Z"
   },
   {
    "duration": 0,
    "start_time": "2022-04-29T17:17:20.041Z"
   },
   {
    "duration": 0,
    "start_time": "2022-04-29T17:17:20.042Z"
   },
   {
    "duration": 0,
    "start_time": "2022-04-29T17:17:20.044Z"
   },
   {
    "duration": 0,
    "start_time": "2022-04-29T17:17:20.045Z"
   },
   {
    "duration": 0,
    "start_time": "2022-04-29T17:17:20.046Z"
   },
   {
    "duration": 0,
    "start_time": "2022-04-29T17:17:20.047Z"
   },
   {
    "duration": 0,
    "start_time": "2022-04-29T17:17:20.048Z"
   },
   {
    "duration": 0,
    "start_time": "2022-04-29T17:17:20.049Z"
   },
   {
    "duration": 0,
    "start_time": "2022-04-29T17:17:20.050Z"
   },
   {
    "duration": 0,
    "start_time": "2022-04-29T17:17:20.052Z"
   },
   {
    "duration": 0,
    "start_time": "2022-04-29T17:17:20.052Z"
   },
   {
    "duration": 0,
    "start_time": "2022-04-29T17:17:20.054Z"
   },
   {
    "duration": 0,
    "start_time": "2022-04-29T17:17:20.055Z"
   },
   {
    "duration": 0,
    "start_time": "2022-04-29T17:17:20.056Z"
   },
   {
    "duration": 0,
    "start_time": "2022-04-29T17:17:20.057Z"
   },
   {
    "duration": 0,
    "start_time": "2022-04-29T17:17:20.058Z"
   },
   {
    "duration": 0,
    "start_time": "2022-04-29T17:17:20.059Z"
   },
   {
    "duration": 0,
    "start_time": "2022-04-29T17:17:20.060Z"
   },
   {
    "duration": 0,
    "start_time": "2022-04-29T17:17:20.061Z"
   }
  ],
  "kernelspec": {
   "display_name": "Python 3 (ipykernel)",
   "language": "python",
   "name": "python3"
  },
  "language_info": {
   "codemirror_mode": {
    "name": "ipython",
    "version": 3
   },
   "file_extension": ".py",
   "mimetype": "text/x-python",
   "name": "python",
   "nbconvert_exporter": "python",
   "pygments_lexer": "ipython3",
   "version": "3.8.8"
  },
  "toc": {
   "base_numbering": 1,
   "nav_menu": {},
   "number_sections": true,
   "sideBar": true,
   "skip_h1_title": false,
   "title_cell": "Table of Contents",
   "title_sidebar": "Contents",
   "toc_cell": false,
   "toc_position": {
    "height": "calc(100% - 180px)",
    "left": "10px",
    "top": "150px",
    "width": "470.9px"
   },
   "toc_section_display": true,
   "toc_window_display": true
  }
 },
 "nbformat": 4,
 "nbformat_minor": 5
}
